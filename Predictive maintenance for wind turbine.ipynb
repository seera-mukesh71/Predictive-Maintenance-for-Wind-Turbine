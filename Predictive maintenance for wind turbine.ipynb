{
 "cells": [
  {
   "cell_type": "code",
   "execution_count": 1,
   "id": "e82d135b",
   "metadata": {},
   "outputs": [
    {
     "name": "stderr",
     "output_type": "stream",
     "text": [
      "2023-10-31 21:48:25.125076: I tensorflow/core/platform/cpu_feature_guard.cc:193] This TensorFlow binary is optimized with oneAPI Deep Neural Network Library (oneDNN) to use the following CPU instructions in performance-critical operations:  SSE4.1 SSE4.2\n",
      "To enable them in other operations, rebuild TensorFlow with the appropriate compiler flags.\n"
     ]
    }
   ],
   "source": [
    "# Importing important libraries\n",
    "import pandas as pd\n",
    "import numpy as np\n",
    "import matplotlib.pyplot as plt\n",
    "import seaborn as sns\n",
    "\n",
    "# Font and styles\n",
    "pd.set_option('display.max_columns', None)\n",
    "%matplotlib inline \n",
    "\n",
    "from keras.callbacks import EarlyStopping, ModelCheckpoint\n",
    "# Imputing model\n",
    "from sklearn.impute import SimpleImputer\n",
    "\n",
    "# Splitting the data to train and test\n",
    "from sklearn.model_selection import train_test_split\n",
    "from sklearn.model_selection import KFold , cross_val_score\n",
    "\n",
    "# Oversampling and undersampling the data\n",
    "from imblearn.under_sampling import RandomUnderSampler\n",
    "from imblearn.over_sampling import SMOTE\n",
    "\n",
    "from sklearn import metrics\n",
    "from sklearn.metrics import classification_report\n",
    "from sklearn.metrics import confusion_matrix\n",
    "from sklearn.metrics import (f1_score,\n",
    "                            precision_score,\n",
    "                            accuracy_score,\n",
    "                            recall_score,\n",
    "                            confusion_matrix,\n",
    "                            roc_auc_score)\n",
    "\n",
    "import keras\n",
    "from sklearn.pipeline import Pipeline\n",
    "\n",
    "# To ignore warnings\n",
    "import warnings \n",
    "warnings.filterwarnings('ignore')"
   ]
  },
  {
   "cell_type": "code",
   "execution_count": 2,
   "id": "24e758c0",
   "metadata": {},
   "outputs": [
    {
     "data": {
      "text/html": [
       "<div>\n",
       "<style scoped>\n",
       "    .dataframe tbody tr th:only-of-type {\n",
       "        vertical-align: middle;\n",
       "    }\n",
       "\n",
       "    .dataframe tbody tr th {\n",
       "        vertical-align: top;\n",
       "    }\n",
       "\n",
       "    .dataframe thead th {\n",
       "        text-align: right;\n",
       "    }\n",
       "</style>\n",
       "<table border=\"1\" class=\"dataframe\">\n",
       "  <thead>\n",
       "    <tr style=\"text-align: right;\">\n",
       "      <th></th>\n",
       "      <th>V1</th>\n",
       "      <th>V2</th>\n",
       "      <th>V3</th>\n",
       "      <th>V4</th>\n",
       "      <th>V5</th>\n",
       "      <th>V6</th>\n",
       "      <th>V7</th>\n",
       "      <th>V8</th>\n",
       "      <th>V9</th>\n",
       "      <th>V10</th>\n",
       "      <th>V11</th>\n",
       "      <th>V12</th>\n",
       "      <th>V13</th>\n",
       "      <th>V14</th>\n",
       "      <th>V15</th>\n",
       "      <th>V16</th>\n",
       "      <th>V17</th>\n",
       "      <th>V18</th>\n",
       "      <th>V19</th>\n",
       "      <th>V20</th>\n",
       "      <th>V21</th>\n",
       "      <th>V22</th>\n",
       "      <th>V23</th>\n",
       "      <th>V24</th>\n",
       "      <th>V25</th>\n",
       "      <th>V26</th>\n",
       "      <th>V27</th>\n",
       "      <th>V28</th>\n",
       "      <th>V29</th>\n",
       "      <th>V30</th>\n",
       "      <th>V31</th>\n",
       "      <th>V32</th>\n",
       "      <th>V33</th>\n",
       "      <th>V34</th>\n",
       "      <th>V35</th>\n",
       "      <th>V36</th>\n",
       "      <th>V37</th>\n",
       "      <th>V38</th>\n",
       "      <th>V39</th>\n",
       "      <th>V40</th>\n",
       "      <th>Target</th>\n",
       "    </tr>\n",
       "  </thead>\n",
       "  <tbody>\n",
       "    <tr>\n",
       "      <th>0</th>\n",
       "      <td>-4.464606</td>\n",
       "      <td>-4.679129</td>\n",
       "      <td>3.101546</td>\n",
       "      <td>0.506130</td>\n",
       "      <td>-0.221083</td>\n",
       "      <td>-2.032511</td>\n",
       "      <td>-2.910870</td>\n",
       "      <td>0.050714</td>\n",
       "      <td>-1.522351</td>\n",
       "      <td>3.761892</td>\n",
       "      <td>-5.714719</td>\n",
       "      <td>0.735893</td>\n",
       "      <td>0.981251</td>\n",
       "      <td>1.417884</td>\n",
       "      <td>-3.375815</td>\n",
       "      <td>-3.047303</td>\n",
       "      <td>0.306194</td>\n",
       "      <td>2.914097</td>\n",
       "      <td>2.269979</td>\n",
       "      <td>4.394876</td>\n",
       "      <td>-2.388299</td>\n",
       "      <td>0.646388</td>\n",
       "      <td>-1.190508</td>\n",
       "      <td>3.132986</td>\n",
       "      <td>0.665277</td>\n",
       "      <td>-2.510846</td>\n",
       "      <td>-0.036744</td>\n",
       "      <td>0.726218</td>\n",
       "      <td>-3.982187</td>\n",
       "      <td>-1.072638</td>\n",
       "      <td>1.667098</td>\n",
       "      <td>3.059700</td>\n",
       "      <td>-1.690440</td>\n",
       "      <td>2.846296</td>\n",
       "      <td>2.235198</td>\n",
       "      <td>6.667486</td>\n",
       "      <td>0.443809</td>\n",
       "      <td>-2.369169</td>\n",
       "      <td>2.950578</td>\n",
       "      <td>-3.480324</td>\n",
       "      <td>0</td>\n",
       "    </tr>\n",
       "    <tr>\n",
       "      <th>1</th>\n",
       "      <td>-2.909996</td>\n",
       "      <td>-2.568662</td>\n",
       "      <td>4.109032</td>\n",
       "      <td>1.316672</td>\n",
       "      <td>-1.620594</td>\n",
       "      <td>-3.827212</td>\n",
       "      <td>-1.616970</td>\n",
       "      <td>0.669006</td>\n",
       "      <td>0.387045</td>\n",
       "      <td>0.853814</td>\n",
       "      <td>-6.352826</td>\n",
       "      <td>4.271718</td>\n",
       "      <td>3.162020</td>\n",
       "      <td>0.257559</td>\n",
       "      <td>-3.547127</td>\n",
       "      <td>-4.284533</td>\n",
       "      <td>2.897271</td>\n",
       "      <td>1.508313</td>\n",
       "      <td>3.667963</td>\n",
       "      <td>7.123824</td>\n",
       "      <td>-4.095749</td>\n",
       "      <td>1.015082</td>\n",
       "      <td>-0.969790</td>\n",
       "      <td>-0.968207</td>\n",
       "      <td>2.063871</td>\n",
       "      <td>-1.646110</td>\n",
       "      <td>0.426956</td>\n",
       "      <td>0.734860</td>\n",
       "      <td>-4.470201</td>\n",
       "      <td>-2.771871</td>\n",
       "      <td>-2.504884</td>\n",
       "      <td>-3.782686</td>\n",
       "      <td>-6.823172</td>\n",
       "      <td>4.908562</td>\n",
       "      <td>0.481554</td>\n",
       "      <td>5.338051</td>\n",
       "      <td>2.381297</td>\n",
       "      <td>-3.127756</td>\n",
       "      <td>3.527309</td>\n",
       "      <td>-3.019581</td>\n",
       "      <td>0</td>\n",
       "    </tr>\n",
       "    <tr>\n",
       "      <th>2</th>\n",
       "      <td>4.283674</td>\n",
       "      <td>5.105381</td>\n",
       "      <td>6.092238</td>\n",
       "      <td>2.639922</td>\n",
       "      <td>-1.041357</td>\n",
       "      <td>1.308419</td>\n",
       "      <td>-1.876140</td>\n",
       "      <td>-9.582412</td>\n",
       "      <td>3.469504</td>\n",
       "      <td>0.763395</td>\n",
       "      <td>-2.573231</td>\n",
       "      <td>-3.349664</td>\n",
       "      <td>-0.594666</td>\n",
       "      <td>-5.246841</td>\n",
       "      <td>-4.309957</td>\n",
       "      <td>-16.232431</td>\n",
       "      <td>-0.999690</td>\n",
       "      <td>2.318208</td>\n",
       "      <td>5.941888</td>\n",
       "      <td>-3.857972</td>\n",
       "      <td>-11.599497</td>\n",
       "      <td>4.021252</td>\n",
       "      <td>-6.281194</td>\n",
       "      <td>4.633167</td>\n",
       "      <td>0.930157</td>\n",
       "      <td>6.280225</td>\n",
       "      <td>0.850654</td>\n",
       "      <td>0.268846</td>\n",
       "      <td>-2.206445</td>\n",
       "      <td>-1.328828</td>\n",
       "      <td>-2.398515</td>\n",
       "      <td>-3.097934</td>\n",
       "      <td>2.690334</td>\n",
       "      <td>-1.643048</td>\n",
       "      <td>7.566482</td>\n",
       "      <td>-3.197647</td>\n",
       "      <td>-3.495672</td>\n",
       "      <td>8.104779</td>\n",
       "      <td>0.562085</td>\n",
       "      <td>-4.227426</td>\n",
       "      <td>0</td>\n",
       "    </tr>\n",
       "    <tr>\n",
       "      <th>3</th>\n",
       "      <td>3.365912</td>\n",
       "      <td>3.653381</td>\n",
       "      <td>0.909671</td>\n",
       "      <td>-1.367528</td>\n",
       "      <td>0.332016</td>\n",
       "      <td>2.358938</td>\n",
       "      <td>0.732600</td>\n",
       "      <td>-4.332135</td>\n",
       "      <td>0.565695</td>\n",
       "      <td>-0.101080</td>\n",
       "      <td>1.914465</td>\n",
       "      <td>-0.951458</td>\n",
       "      <td>-1.255259</td>\n",
       "      <td>-2.706522</td>\n",
       "      <td>0.193223</td>\n",
       "      <td>-4.769379</td>\n",
       "      <td>-2.205319</td>\n",
       "      <td>0.907716</td>\n",
       "      <td>0.756894</td>\n",
       "      <td>-5.833678</td>\n",
       "      <td>-3.065122</td>\n",
       "      <td>1.596647</td>\n",
       "      <td>-1.757311</td>\n",
       "      <td>1.766444</td>\n",
       "      <td>-0.267098</td>\n",
       "      <td>3.625036</td>\n",
       "      <td>1.500346</td>\n",
       "      <td>-0.585712</td>\n",
       "      <td>0.783034</td>\n",
       "      <td>-0.201217</td>\n",
       "      <td>0.024883</td>\n",
       "      <td>-1.795474</td>\n",
       "      <td>3.032780</td>\n",
       "      <td>-2.467514</td>\n",
       "      <td>1.894599</td>\n",
       "      <td>-2.297780</td>\n",
       "      <td>-1.731048</td>\n",
       "      <td>5.908837</td>\n",
       "      <td>-0.386345</td>\n",
       "      <td>0.616242</td>\n",
       "      <td>0</td>\n",
       "    </tr>\n",
       "    <tr>\n",
       "      <th>4</th>\n",
       "      <td>-3.831843</td>\n",
       "      <td>-5.824444</td>\n",
       "      <td>0.634031</td>\n",
       "      <td>-2.418815</td>\n",
       "      <td>-1.773827</td>\n",
       "      <td>1.016824</td>\n",
       "      <td>-2.098941</td>\n",
       "      <td>-3.173204</td>\n",
       "      <td>-2.081860</td>\n",
       "      <td>5.392621</td>\n",
       "      <td>-0.770673</td>\n",
       "      <td>1.106718</td>\n",
       "      <td>1.144261</td>\n",
       "      <td>0.943301</td>\n",
       "      <td>-3.163804</td>\n",
       "      <td>-4.247825</td>\n",
       "      <td>-4.038909</td>\n",
       "      <td>3.688534</td>\n",
       "      <td>3.311196</td>\n",
       "      <td>1.059002</td>\n",
       "      <td>-2.143026</td>\n",
       "      <td>1.650120</td>\n",
       "      <td>-1.660592</td>\n",
       "      <td>1.679910</td>\n",
       "      <td>-0.450782</td>\n",
       "      <td>-4.550695</td>\n",
       "      <td>3.738779</td>\n",
       "      <td>1.134404</td>\n",
       "      <td>-2.033531</td>\n",
       "      <td>0.840839</td>\n",
       "      <td>-1.600395</td>\n",
       "      <td>-0.257101</td>\n",
       "      <td>0.803550</td>\n",
       "      <td>4.086219</td>\n",
       "      <td>2.292138</td>\n",
       "      <td>5.360850</td>\n",
       "      <td>0.351993</td>\n",
       "      <td>2.940021</td>\n",
       "      <td>3.839160</td>\n",
       "      <td>-4.309402</td>\n",
       "      <td>0</td>\n",
       "    </tr>\n",
       "  </tbody>\n",
       "</table>\n",
       "</div>"
      ],
      "text/plain": [
       "         V1        V2        V3        V4        V5        V6        V7  \\\n",
       "0 -4.464606 -4.679129  3.101546  0.506130 -0.221083 -2.032511 -2.910870   \n",
       "1 -2.909996 -2.568662  4.109032  1.316672 -1.620594 -3.827212 -1.616970   \n",
       "2  4.283674  5.105381  6.092238  2.639922 -1.041357  1.308419 -1.876140   \n",
       "3  3.365912  3.653381  0.909671 -1.367528  0.332016  2.358938  0.732600   \n",
       "4 -3.831843 -5.824444  0.634031 -2.418815 -1.773827  1.016824 -2.098941   \n",
       "\n",
       "         V8        V9       V10       V11       V12       V13       V14  \\\n",
       "0  0.050714 -1.522351  3.761892 -5.714719  0.735893  0.981251  1.417884   \n",
       "1  0.669006  0.387045  0.853814 -6.352826  4.271718  3.162020  0.257559   \n",
       "2 -9.582412  3.469504  0.763395 -2.573231 -3.349664 -0.594666 -5.246841   \n",
       "3 -4.332135  0.565695 -0.101080  1.914465 -0.951458 -1.255259 -2.706522   \n",
       "4 -3.173204 -2.081860  5.392621 -0.770673  1.106718  1.144261  0.943301   \n",
       "\n",
       "        V15        V16       V17       V18       V19       V20        V21  \\\n",
       "0 -3.375815  -3.047303  0.306194  2.914097  2.269979  4.394876  -2.388299   \n",
       "1 -3.547127  -4.284533  2.897271  1.508313  3.667963  7.123824  -4.095749   \n",
       "2 -4.309957 -16.232431 -0.999690  2.318208  5.941888 -3.857972 -11.599497   \n",
       "3  0.193223  -4.769379 -2.205319  0.907716  0.756894 -5.833678  -3.065122   \n",
       "4 -3.163804  -4.247825 -4.038909  3.688534  3.311196  1.059002  -2.143026   \n",
       "\n",
       "        V22       V23       V24       V25       V26       V27       V28  \\\n",
       "0  0.646388 -1.190508  3.132986  0.665277 -2.510846 -0.036744  0.726218   \n",
       "1  1.015082 -0.969790 -0.968207  2.063871 -1.646110  0.426956  0.734860   \n",
       "2  4.021252 -6.281194  4.633167  0.930157  6.280225  0.850654  0.268846   \n",
       "3  1.596647 -1.757311  1.766444 -0.267098  3.625036  1.500346 -0.585712   \n",
       "4  1.650120 -1.660592  1.679910 -0.450782 -4.550695  3.738779  1.134404   \n",
       "\n",
       "        V29       V30       V31       V32       V33       V34       V35  \\\n",
       "0 -3.982187 -1.072638  1.667098  3.059700 -1.690440  2.846296  2.235198   \n",
       "1 -4.470201 -2.771871 -2.504884 -3.782686 -6.823172  4.908562  0.481554   \n",
       "2 -2.206445 -1.328828 -2.398515 -3.097934  2.690334 -1.643048  7.566482   \n",
       "3  0.783034 -0.201217  0.024883 -1.795474  3.032780 -2.467514  1.894599   \n",
       "4 -2.033531  0.840839 -1.600395 -0.257101  0.803550  4.086219  2.292138   \n",
       "\n",
       "        V36       V37       V38       V39       V40  Target  \n",
       "0  6.667486  0.443809 -2.369169  2.950578 -3.480324       0  \n",
       "1  5.338051  2.381297 -3.127756  3.527309 -3.019581       0  \n",
       "2 -3.197647 -3.495672  8.104779  0.562085 -4.227426       0  \n",
       "3 -2.297780 -1.731048  5.908837 -0.386345  0.616242       0  \n",
       "4  5.360850  0.351993  2.940021  3.839160 -4.309402       0  "
      ]
     },
     "execution_count": 2,
     "metadata": {},
     "output_type": "execute_result"
    }
   ],
   "source": [
    "df = pd.read_csv('Train.csv')\n",
    "df.head()"
   ]
  },
  {
   "cell_type": "code",
   "execution_count": 3,
   "id": "756a95f3",
   "metadata": {},
   "outputs": [
    {
     "data": {
      "text/plain": [
       "V1        46\n",
       "V2        39\n",
       "V3         0\n",
       "V4         0\n",
       "V5         0\n",
       "V6         0\n",
       "V7         0\n",
       "V8         0\n",
       "V9         0\n",
       "V10        0\n",
       "V11        0\n",
       "V12        0\n",
       "V13        0\n",
       "V14        0\n",
       "V15        0\n",
       "V16        0\n",
       "V17        0\n",
       "V18        0\n",
       "V19        0\n",
       "V20        0\n",
       "V21        0\n",
       "V22        0\n",
       "V23        0\n",
       "V24        0\n",
       "V25        0\n",
       "V26        0\n",
       "V27        0\n",
       "V28        0\n",
       "V29        0\n",
       "V30        0\n",
       "V31        0\n",
       "V32        0\n",
       "V33        0\n",
       "V34        0\n",
       "V35        0\n",
       "V36        0\n",
       "V37        0\n",
       "V38        0\n",
       "V39        0\n",
       "V40        0\n",
       "Target     0\n",
       "dtype: int64"
      ]
     },
     "execution_count": 3,
     "metadata": {},
     "output_type": "execute_result"
    }
   ],
   "source": [
    "df.isna().sum()"
   ]
  },
  {
   "cell_type": "code",
   "execution_count": 4,
   "id": "a68d335c",
   "metadata": {},
   "outputs": [],
   "source": [
    "mean_v1 = df['V1'].mean()\n",
    "mean_v2 = df['V2'].mean()"
   ]
  },
  {
   "cell_type": "code",
   "execution_count": 5,
   "id": "fc0d1efb",
   "metadata": {},
   "outputs": [],
   "source": [
    "df.V1.fillna(mean_v1, inplace=True)\n",
    "df.V2.fillna(mean_v2, inplace=True)"
   ]
  },
  {
   "cell_type": "code",
   "execution_count": 6,
   "id": "b009f2f7",
   "metadata": {},
   "outputs": [
    {
     "data": {
      "text/plain": [
       "V1        0\n",
       "V2        0\n",
       "V3        0\n",
       "V4        0\n",
       "V5        0\n",
       "V6        0\n",
       "V7        0\n",
       "V8        0\n",
       "V9        0\n",
       "V10       0\n",
       "V11       0\n",
       "V12       0\n",
       "V13       0\n",
       "V14       0\n",
       "V15       0\n",
       "V16       0\n",
       "V17       0\n",
       "V18       0\n",
       "V19       0\n",
       "V20       0\n",
       "V21       0\n",
       "V22       0\n",
       "V23       0\n",
       "V24       0\n",
       "V25       0\n",
       "V26       0\n",
       "V27       0\n",
       "V28       0\n",
       "V29       0\n",
       "V30       0\n",
       "V31       0\n",
       "V32       0\n",
       "V33       0\n",
       "V34       0\n",
       "V35       0\n",
       "V36       0\n",
       "V37       0\n",
       "V38       0\n",
       "V39       0\n",
       "V40       0\n",
       "Target    0\n",
       "dtype: int64"
      ]
     },
     "execution_count": 6,
     "metadata": {},
     "output_type": "execute_result"
    }
   ],
   "source": [
    "df.isna().sum()"
   ]
  },
  {
   "cell_type": "code",
   "execution_count": 7,
   "id": "bc317bca",
   "metadata": {},
   "outputs": [],
   "source": [
    "X = df.iloc[:,:-1]\n",
    "y = df['Target']"
   ]
  },
  {
   "cell_type": "code",
   "execution_count": 8,
   "id": "54b0d87a",
   "metadata": {},
   "outputs": [],
   "source": [
    "X_train, X_test, y_train, y_test = train_test_split(X, y, test_size=0.2, random_state=42)"
   ]
  },
  {
   "cell_type": "code",
   "execution_count": 9,
   "id": "83350013",
   "metadata": {},
   "outputs": [
    {
     "name": "stdout",
     "output_type": "stream",
     "text": [
      "(32000, 40)\n",
      "(8000, 40)\n",
      "(32000,)\n",
      "(8000,)\n"
     ]
    }
   ],
   "source": [
    "print(X_train.shape)\n",
    "print(X_test.shape)\n",
    "print(y_train.shape)\n",
    "print(y_test.shape)"
   ]
  },
  {
   "cell_type": "code",
   "execution_count": 10,
   "id": "d1c3b7d5",
   "metadata": {},
   "outputs": [],
   "source": [
    "def min_model_cost(y_train,y_pred):\n",
    "    y_pred = (y_pred > 0.5).astype(int)\n",
    "    cm = confusion_matrix(y_train, y_pred)\n",
    "    TP = cm[1,1]\n",
    "    FP = cm[0,1]\n",
    "    FN = cm[1,0]\n",
    "    cost = (TP*15) + (FP*5) + (FN*40)\n",
    "    min_cost = (TP+FN)*15\n",
    "    percent = min_cost / cost\n",
    "    return percent\n",
    "scorer = metrics.make_scorer(min_model_cost,greater_is_better=True)"
   ]
  },
  {
   "cell_type": "code",
   "execution_count": 11,
   "id": "afd39fe1",
   "metadata": {},
   "outputs": [],
   "source": [
    "def min_model_cost1(y_train,y_pred):\n",
    "    y_pred = (y_pred > 0.42).astype(int)\n",
    "    cm = confusion_matrix(y_train, y_pred)\n",
    "    TP = cm[1,1]\n",
    "    FP = cm[0,1]\n",
    "    FN = cm[1,0]\n",
    "    cost = (TP*15) + (FP*5) + (FN*40)\n",
    "    min_cost = (TP+FN)*15\n",
    "    percent = min_cost / cost\n",
    "    return percent\n",
    "scorer = metrics.make_scorer(min_model_cost,greater_is_better=True)"
   ]
  },
  {
   "cell_type": "code",
   "execution_count": 12,
   "id": "fa08f1e9",
   "metadata": {},
   "outputs": [],
   "source": [
    "def maintanence_cost(model, x, y):\n",
    "    pred = model.predict(x)\n",
    "    pred_binary = (pred > 0.5).astype(int)\n",
    "    cm = confusion_matrix(y, pred_binary)\n",
    "    TP = cm[1,1]\n",
    "    FP = cm[0,1]\n",
    "    FN = cm[1,0]\n",
    "    cost = (TP*15) + (FP*5) + (FN*40)\n",
    "    min_cost = (TP+FN)*15\n",
    "    percent = min_cost / cost\n",
    "    \n",
    "    \n",
    "    \n",
    "    acc = accuracy_score(y,pred_binary)\n",
    "    precision = precision_score(y,pred_binary)\n",
    "    recall = recall_score(y,pred_binary)\n",
    "    f1 = f1_score(y,pred_binary)\n",
    "    \n",
    "    df_metrics = pd.DataFrame({'Accuracy':acc ,\n",
    "                               'Precision':precision,\n",
    "                               'Recall':recall,\n",
    "                               'F1_score':f1,\n",
    "                               'Model_Cost':percent}, index=[0])\n",
    "    return df_metrics"
   ]
  },
  {
   "cell_type": "code",
   "execution_count": 13,
   "id": "56f0c0bd",
   "metadata": {},
   "outputs": [],
   "source": [
    "def maintanence_cost1(model, x, y):\n",
    "    pred = model.predict(x)\n",
    "    pred_binary = (pred > 0.42).astype(int)\n",
    "    cm = confusion_matrix(y, pred_binary)\n",
    "    TP = cm[1,1]\n",
    "    FP = cm[0,1]\n",
    "    FN = cm[1,0]\n",
    "    cost = (TP*15) + (FP*5) + (FN*40)\n",
    "    min_cost = (TP+FN)*15\n",
    "    percent = min_cost / cost\n",
    "    \n",
    "    \n",
    "    \n",
    "    acc = accuracy_score(y,pred_binary)\n",
    "    precision = precision_score(y,pred_binary)\n",
    "    recall = recall_score(y,pred_binary)\n",
    "    f1 = f1_score(y,pred_binary)\n",
    "    \n",
    "    df_metrics = pd.DataFrame({'Accuracy':acc ,\n",
    "                               'Precision':precision,\n",
    "                               'Recall':recall,\n",
    "                               'F1_score':f1,\n",
    "                               'Model_Cost':percent}, index=[0])\n",
    "    return df_metrics"
   ]
  },
  {
   "cell_type": "code",
   "execution_count": 14,
   "id": "9b9c7380",
   "metadata": {},
   "outputs": [],
   "source": [
    "def confusion_matrix_sklearn(model, predictors, target):\n",
    "    y_pred = model.predict(predictors)\n",
    "    y_pred_binary = (y_pred > 0.5).astype(int)\n",
    "    cm = confusion_matrix(target, y_pred_binary)\n",
    "    labels = np.asarray(\n",
    "        [\n",
    "            [\"{0:0.0f}\".format(item) + \"\\n{0:.2%}\".format(item / cm.flatten().sum())]\n",
    "            for item in cm.flatten()\n",
    "        ]\n",
    "    ).reshape(2, 2)\n",
    "\n",
    "    plt.figure(figsize=(7, 5))\n",
    "    sns.heatmap(cm, annot=labels, fmt=\"\")\n",
    "    plt.ylabel(\"True label\")\n",
    "    plt.xlabel(\"Predicted label\")"
   ]
  },
  {
   "cell_type": "code",
   "execution_count": 15,
   "id": "f249dc68",
   "metadata": {},
   "outputs": [],
   "source": [
    "def confusion_matrix_sklearn1(model, predictors, target):\n",
    "    y_pred = model.predict(predictors)\n",
    "    y_pred_binary = (y_pred > 0.42).astype(int)\n",
    "    cm = confusion_matrix(target, y_pred_binary)\n",
    "    labels = np.asarray(\n",
    "        [\n",
    "            [\"{0:0.0f}\".format(item) + \"\\n{0:.2%}\".format(item / cm.flatten().sum())]\n",
    "            for item in cm.flatten()\n",
    "        ]\n",
    "    ).reshape(2, 2)\n",
    "\n",
    "    plt.figure(figsize=(7, 5))\n",
    "    sns.heatmap(cm, annot=labels, fmt=\"\", color = 'blue')\n",
    "    plt.ylabel(\"True label\")\n",
    "    plt.xlabel(\"Predicted label\")"
   ]
  },
  {
   "cell_type": "code",
   "execution_count": 16,
   "id": "6369fc58",
   "metadata": {},
   "outputs": [],
   "source": [
    "def neural_network(x,y):\n",
    "    model = keras.Sequential([\n",
    "        keras.layers.Dense(256, input_shape=(x.shape[1],), activation='relu'),\n",
    "        keras.layers.Dropout(0.5), \n",
    "        keras.layers.Dense(128, activation='relu'),\n",
    "        keras.layers.Dropout(0.5),\n",
    "        keras.layers.Dense(64, activation='relu'),\n",
    "        keras.layers.Dropout(0.5),\n",
    "        keras.layers.Dense(32, activation='relu'),\n",
    "        keras.layers.Dropout(0.5),\n",
    "        keras.layers.Dense(1, activation='sigmoid')])\n",
    "    \n",
    "    model.compile(optimizer='adam', loss='binary_crossentropy', metrics=['accuracy'])\n",
    "    model.fit(x, y, epochs=50, batch_size=64, validation_split=0.2)\n",
    "    return model"
   ]
  },
  {
   "cell_type": "code",
   "execution_count": 17,
   "id": "38902d4c",
   "metadata": {
    "scrolled": true
   },
   "outputs": [
    {
     "name": "stderr",
     "output_type": "stream",
     "text": [
      "2023-10-31 21:48:29.718342: I tensorflow/core/platform/cpu_feature_guard.cc:193] This TensorFlow binary is optimized with oneAPI Deep Neural Network Library (oneDNN) to use the following CPU instructions in performance-critical operations:  SSE4.1 SSE4.2\n",
      "To enable them in other operations, rebuild TensorFlow with the appropriate compiler flags.\n"
     ]
    },
    {
     "name": "stdout",
     "output_type": "stream",
     "text": [
      "Epoch 1/50\n",
      "400/400 [==============================] - 1s 2ms/step - loss: 0.2044 - accuracy: 0.9423 - val_loss: 0.0966 - val_accuracy: 0.9777\n",
      "Epoch 2/50\n",
      "400/400 [==============================] - 1s 1ms/step - loss: 0.1169 - accuracy: 0.9718 - val_loss: 0.0737 - val_accuracy: 0.9830\n",
      "Epoch 3/50\n",
      "400/400 [==============================] - 1s 1ms/step - loss: 0.0920 - accuracy: 0.9810 - val_loss: 0.0633 - val_accuracy: 0.9862\n",
      "Epoch 4/50\n",
      "400/400 [==============================] - 1s 1ms/step - loss: 0.0829 - accuracy: 0.9834 - val_loss: 0.0595 - val_accuracy: 0.9877\n",
      "Epoch 5/50\n",
      "400/400 [==============================] - 1s 1ms/step - loss: 0.0746 - accuracy: 0.9853 - val_loss: 0.0575 - val_accuracy: 0.9894\n",
      "Epoch 6/50\n",
      "400/400 [==============================] - 1s 1ms/step - loss: 0.0753 - accuracy: 0.9854 - val_loss: 0.0534 - val_accuracy: 0.9900\n",
      "Epoch 7/50\n",
      "400/400 [==============================] - 1s 1ms/step - loss: 0.0675 - accuracy: 0.9861 - val_loss: 0.0500 - val_accuracy: 0.9912\n",
      "Epoch 8/50\n",
      "400/400 [==============================] - 1s 1ms/step - loss: 0.0652 - accuracy: 0.9883 - val_loss: 0.0540 - val_accuracy: 0.9898\n",
      "Epoch 9/50\n",
      "400/400 [==============================] - 1s 1ms/step - loss: 0.0677 - accuracy: 0.9869 - val_loss: 0.0549 - val_accuracy: 0.9902\n",
      "Epoch 10/50\n",
      "400/400 [==============================] - 1s 1ms/step - loss: 0.0610 - accuracy: 0.9876 - val_loss: 0.0497 - val_accuracy: 0.9911\n",
      "Epoch 11/50\n",
      "400/400 [==============================] - 1s 1ms/step - loss: 0.0584 - accuracy: 0.9882 - val_loss: 0.0515 - val_accuracy: 0.9914\n",
      "Epoch 12/50\n",
      "400/400 [==============================] - 1s 1ms/step - loss: 0.0591 - accuracy: 0.9882 - val_loss: 0.0482 - val_accuracy: 0.9917\n",
      "Epoch 13/50\n",
      "400/400 [==============================] - 1s 1ms/step - loss: 0.0597 - accuracy: 0.9886 - val_loss: 0.0501 - val_accuracy: 0.9916\n",
      "Epoch 14/50\n",
      "400/400 [==============================] - 1s 1ms/step - loss: 0.0557 - accuracy: 0.9889 - val_loss: 0.0481 - val_accuracy: 0.9912\n",
      "Epoch 15/50\n",
      "400/400 [==============================] - 1s 1ms/step - loss: 0.0559 - accuracy: 0.9896 - val_loss: 0.0492 - val_accuracy: 0.9916\n",
      "Epoch 16/50\n",
      "400/400 [==============================] - 1s 1ms/step - loss: 0.0582 - accuracy: 0.9889 - val_loss: 0.0505 - val_accuracy: 0.9912\n",
      "Epoch 17/50\n",
      "400/400 [==============================] - 1s 1ms/step - loss: 0.0527 - accuracy: 0.9897 - val_loss: 0.0476 - val_accuracy: 0.9919\n",
      "Epoch 18/50\n",
      "400/400 [==============================] - 1s 1ms/step - loss: 0.0567 - accuracy: 0.9891 - val_loss: 0.0480 - val_accuracy: 0.9919\n",
      "Epoch 19/50\n",
      "400/400 [==============================] - 1s 1ms/step - loss: 0.0546 - accuracy: 0.9894 - val_loss: 0.0508 - val_accuracy: 0.9914\n",
      "Epoch 20/50\n",
      "400/400 [==============================] - 1s 1ms/step - loss: 0.0532 - accuracy: 0.9897 - val_loss: 0.0489 - val_accuracy: 0.9914\n",
      "Epoch 21/50\n",
      "400/400 [==============================] - 1s 1ms/step - loss: 0.0531 - accuracy: 0.9891 - val_loss: 0.0490 - val_accuracy: 0.9917\n",
      "Epoch 22/50\n",
      "400/400 [==============================] - 1s 1ms/step - loss: 0.0521 - accuracy: 0.9895 - val_loss: 0.0497 - val_accuracy: 0.9917\n",
      "Epoch 23/50\n",
      "400/400 [==============================] - 1s 1ms/step - loss: 0.0526 - accuracy: 0.9900 - val_loss: 0.0498 - val_accuracy: 0.9900\n",
      "Epoch 24/50\n",
      "400/400 [==============================] - 1s 1ms/step - loss: 0.0511 - accuracy: 0.9893 - val_loss: 0.0479 - val_accuracy: 0.9916\n",
      "Epoch 25/50\n",
      "400/400 [==============================] - 1s 1ms/step - loss: 0.0509 - accuracy: 0.9901 - val_loss: 0.0473 - val_accuracy: 0.9911\n",
      "Epoch 26/50\n",
      "400/400 [==============================] - 1s 2ms/step - loss: 0.0515 - accuracy: 0.9897 - val_loss: 0.0473 - val_accuracy: 0.9917\n",
      "Epoch 27/50\n",
      "400/400 [==============================] - 1s 2ms/step - loss: 0.0497 - accuracy: 0.9895 - val_loss: 0.0517 - val_accuracy: 0.9912\n",
      "Epoch 28/50\n",
      "400/400 [==============================] - 1s 1ms/step - loss: 0.0502 - accuracy: 0.9900 - val_loss: 0.0483 - val_accuracy: 0.9916\n",
      "Epoch 29/50\n",
      "400/400 [==============================] - 1s 1ms/step - loss: 0.0478 - accuracy: 0.9907 - val_loss: 0.0474 - val_accuracy: 0.9916\n",
      "Epoch 30/50\n",
      "400/400 [==============================] - 1s 1ms/step - loss: 0.0489 - accuracy: 0.9910 - val_loss: 0.0495 - val_accuracy: 0.9917\n",
      "Epoch 31/50\n",
      "400/400 [==============================] - 1s 2ms/step - loss: 0.0492 - accuracy: 0.9900 - val_loss: 0.0505 - val_accuracy: 0.9911\n",
      "Epoch 32/50\n",
      "400/400 [==============================] - 1s 2ms/step - loss: 0.0482 - accuracy: 0.9908 - val_loss: 0.0488 - val_accuracy: 0.9914\n",
      "Epoch 33/50\n",
      "400/400 [==============================] - 1s 1ms/step - loss: 0.0481 - accuracy: 0.9901 - val_loss: 0.0492 - val_accuracy: 0.9917\n",
      "Epoch 34/50\n",
      "400/400 [==============================] - 1s 1ms/step - loss: 0.0451 - accuracy: 0.9908 - val_loss: 0.0504 - val_accuracy: 0.9927\n",
      "Epoch 35/50\n",
      "400/400 [==============================] - 1s 1ms/step - loss: 0.0466 - accuracy: 0.9902 - val_loss: 0.0504 - val_accuracy: 0.9917\n",
      "Epoch 36/50\n",
      "400/400 [==============================] - 1s 1ms/step - loss: 0.0496 - accuracy: 0.9901 - val_loss: 0.0513 - val_accuracy: 0.9909\n",
      "Epoch 37/50\n",
      "400/400 [==============================] - 1s 1ms/step - loss: 0.0482 - accuracy: 0.9903 - val_loss: 0.0504 - val_accuracy: 0.9922\n",
      "Epoch 38/50\n",
      "400/400 [==============================] - 1s 1ms/step - loss: 0.0491 - accuracy: 0.9901 - val_loss: 0.0506 - val_accuracy: 0.9928\n",
      "Epoch 39/50\n",
      "400/400 [==============================] - 1s 1ms/step - loss: 0.0474 - accuracy: 0.9905 - val_loss: 0.0516 - val_accuracy: 0.9923\n",
      "Epoch 40/50\n",
      "400/400 [==============================] - 1s 1ms/step - loss: 0.0459 - accuracy: 0.9907 - val_loss: 0.0500 - val_accuracy: 0.9919\n",
      "Epoch 41/50\n",
      "400/400 [==============================] - 1s 1ms/step - loss: 0.0467 - accuracy: 0.9910 - val_loss: 0.0478 - val_accuracy: 0.9920\n",
      "Epoch 42/50\n",
      "400/400 [==============================] - 1s 1ms/step - loss: 0.0460 - accuracy: 0.9906 - val_loss: 0.0498 - val_accuracy: 0.9922\n",
      "Epoch 43/50\n",
      "400/400 [==============================] - 1s 1ms/step - loss: 0.0487 - accuracy: 0.9903 - val_loss: 0.0472 - val_accuracy: 0.9919\n",
      "Epoch 44/50\n",
      "400/400 [==============================] - 1s 1ms/step - loss: 0.0457 - accuracy: 0.9909 - val_loss: 0.0503 - val_accuracy: 0.9920\n",
      "Epoch 45/50\n",
      "400/400 [==============================] - 1s 1ms/step - loss: 0.0473 - accuracy: 0.9912 - val_loss: 0.0494 - val_accuracy: 0.9917\n",
      "Epoch 46/50\n",
      "400/400 [==============================] - 1s 1ms/step - loss: 0.0472 - accuracy: 0.9906 - val_loss: 0.0492 - val_accuracy: 0.9922\n",
      "Epoch 47/50\n",
      "400/400 [==============================] - 1s 1ms/step - loss: 0.0465 - accuracy: 0.9905 - val_loss: 0.0470 - val_accuracy: 0.9923\n",
      "Epoch 48/50\n",
      "400/400 [==============================] - 1s 1ms/step - loss: 0.0446 - accuracy: 0.9911 - val_loss: 0.0469 - val_accuracy: 0.9906\n",
      "Epoch 49/50\n",
      "400/400 [==============================] - 1s 1ms/step - loss: 0.0448 - accuracy: 0.9908 - val_loss: 0.0483 - val_accuracy: 0.9920\n",
      "Epoch 50/50\n",
      "400/400 [==============================] - 1s 2ms/step - loss: 0.0482 - accuracy: 0.9907 - val_loss: 0.0487 - val_accuracy: 0.9920\n"
     ]
    }
   ],
   "source": [
    "nn_model = neural_network(X_train, y_train)"
   ]
  },
  {
   "cell_type": "code",
   "execution_count": 18,
   "id": "62486612",
   "metadata": {},
   "outputs": [
    {
     "name": "stdout",
     "output_type": "stream",
     "text": [
      "250/250 [==============================] - 0s 852us/step - loss: 0.0506 - accuracy: 0.9930\n",
      "Test accuracy: 0.9929999709129333\n"
     ]
    }
   ],
   "source": [
    "loss, accuracy = nn_model.evaluate(X_test, y_test)\n",
    "print(f'Test accuracy: {accuracy}')"
   ]
  },
  {
   "cell_type": "code",
   "execution_count": 19,
   "id": "6e008a31",
   "metadata": {},
   "outputs": [
    {
     "name": "stdout",
     "output_type": "stream",
     "text": [
      "250/250 [==============================] - 0s 600us/step\n",
      "              precision    recall  f1-score   support\n",
      "\n",
      "           0       0.99      1.00      1.00      7551\n",
      "           1       0.97      0.90      0.94       449\n",
      "\n",
      "    accuracy                           0.99      8000\n",
      "   macro avg       0.98      0.95      0.97      8000\n",
      "weighted avg       0.99      0.99      0.99      8000\n",
      "\n"
     ]
    }
   ],
   "source": [
    "y_pred = nn_model.predict(X_test)\n",
    "y_pred_binary = (y_pred > 0.5).astype(int)\n",
    "print(classification_report(y_test, y_pred_binary))"
   ]
  },
  {
   "cell_type": "code",
   "execution_count": 20,
   "id": "b9133d67",
   "metadata": {},
   "outputs": [
    {
     "name": "stdout",
     "output_type": "stream",
     "text": [
      "1000/1000 [==============================] - 1s 528us/step\n"
     ]
    },
    {
     "data": {
      "text/html": [
       "<div>\n",
       "<style scoped>\n",
       "    .dataframe tbody tr th:only-of-type {\n",
       "        vertical-align: middle;\n",
       "    }\n",
       "\n",
       "    .dataframe tbody tr th {\n",
       "        vertical-align: top;\n",
       "    }\n",
       "\n",
       "    .dataframe thead th {\n",
       "        text-align: right;\n",
       "    }\n",
       "</style>\n",
       "<table border=\"1\" class=\"dataframe\">\n",
       "  <thead>\n",
       "    <tr style=\"text-align: right;\">\n",
       "      <th></th>\n",
       "      <th>Accuracy</th>\n",
       "      <th>Precision</th>\n",
       "      <th>Recall</th>\n",
       "      <th>F1_score</th>\n",
       "      <th>Model_Cost</th>\n",
       "    </tr>\n",
       "  </thead>\n",
       "  <tbody>\n",
       "    <tr>\n",
       "      <th>0</th>\n",
       "      <td>0.993281</td>\n",
       "      <td>0.986581</td>\n",
       "      <td>0.888377</td>\n",
       "      <td>0.934908</td>\n",
       "      <td>0.84029</td>\n",
       "    </tr>\n",
       "  </tbody>\n",
       "</table>\n",
       "</div>"
      ],
      "text/plain": [
       "   Accuracy  Precision    Recall  F1_score  Model_Cost\n",
       "0  0.993281   0.986581  0.888377  0.934908     0.84029"
      ]
     },
     "execution_count": 20,
     "metadata": {},
     "output_type": "execute_result"
    }
   ],
   "source": [
    "maintanence_cost(nn_model, X_train, y_train)"
   ]
  },
  {
   "cell_type": "code",
   "execution_count": 21,
   "id": "0fa418db",
   "metadata": {},
   "outputs": [
    {
     "name": "stdout",
     "output_type": "stream",
     "text": [
      "250/250 [==============================] - 0s 547us/step\n"
     ]
    },
    {
     "data": {
      "text/html": [
       "<div>\n",
       "<style scoped>\n",
       "    .dataframe tbody tr th:only-of-type {\n",
       "        vertical-align: middle;\n",
       "    }\n",
       "\n",
       "    .dataframe tbody tr th {\n",
       "        vertical-align: top;\n",
       "    }\n",
       "\n",
       "    .dataframe thead th {\n",
       "        text-align: right;\n",
       "    }\n",
       "</style>\n",
       "<table border=\"1\" class=\"dataframe\">\n",
       "  <thead>\n",
       "    <tr style=\"text-align: right;\">\n",
       "      <th></th>\n",
       "      <th>Accuracy</th>\n",
       "      <th>Precision</th>\n",
       "      <th>Recall</th>\n",
       "      <th>F1_score</th>\n",
       "      <th>Model_Cost</th>\n",
       "    </tr>\n",
       "  </thead>\n",
       "  <tbody>\n",
       "    <tr>\n",
       "      <th>0</th>\n",
       "      <td>0.993</td>\n",
       "      <td>0.971223</td>\n",
       "      <td>0.902004</td>\n",
       "      <td>0.935335</td>\n",
       "      <td>0.853072</td>\n",
       "    </tr>\n",
       "  </tbody>\n",
       "</table>\n",
       "</div>"
      ],
      "text/plain": [
       "   Accuracy  Precision    Recall  F1_score  Model_Cost\n",
       "0     0.993   0.971223  0.902004  0.935335    0.853072"
      ]
     },
     "execution_count": 21,
     "metadata": {},
     "output_type": "execute_result"
    }
   ],
   "source": [
    "maintanence_cost(nn_model, X_test, y_test)"
   ]
  },
  {
   "cell_type": "code",
   "execution_count": 22,
   "id": "e104051a",
   "metadata": {},
   "outputs": [
    {
     "name": "stdout",
     "output_type": "stream",
     "text": [
      "1000/1000 [==============================] - 1s 630us/step\n"
     ]
    },
    {
     "data": {
      "image/png": "[encoded data removed]",
      "text/plain": [
       "<Figure size 700x500 with 2 Axes>"
      ]
     },
     "metadata": {},
     "output_type": "display_data"
    }
   ],
   "source": [
    "confusion_matrix_sklearn(nn_model, X_train, y_train)"
   ]
  },
  {
   "cell_type": "code",
   "execution_count": 23,
   "id": "03ff4fe9",
   "metadata": {},
   "outputs": [
    {
     "name": "stdout",
     "output_type": "stream",
     "text": [
      "1000/1000 [==============================] - 1s 571us/step\n"
     ]
    },
    {
     "data": {
      "image/png": "[encoded data removed]",
      "text/plain": [
       "<Figure size 700x500 with 2 Axes>"
      ]
     },
     "metadata": {},
     "output_type": "display_data"
    }
   ],
   "source": [
    "confusion_matrix_sklearn1(nn_model, X_train, y_train)"
   ]
  },
  {
   "cell_type": "markdown",
   "id": "073858e9",
   "metadata": {},
   "source": [
    "## Cross validation"
   ]
  },
  {
   "cell_type": "code",
   "execution_count": 24,
   "id": "665cbf12",
   "metadata": {},
   "outputs": [],
   "source": [
    "kf = KFold(n_splits=5, random_state=1, shuffle=True)"
   ]
  },
  {
   "cell_type": "code",
   "execution_count": 25,
   "id": "4e29b9d4",
   "metadata": {},
   "outputs": [],
   "source": [
    "X1 = X.values"
   ]
  },
  {
   "cell_type": "code",
   "execution_count": 26,
   "id": "87664ef9",
   "metadata": {},
   "outputs": [
    {
     "name": "stdout",
     "output_type": "stream",
     "text": [
      "250/250 [==============================] - 0s 536us/step\n",
      "250/250 [==============================] - 0s 562us/step\n",
      "250/250 [==============================] - 0s 535us/step\n",
      "250/250 [==============================] - 0s 542us/step\n",
      "250/250 [==============================] - 0s 560us/step\n"
     ]
    }
   ],
   "source": [
    "acc_score = []\n",
    "\n",
    "KFold(n_splits=2, random_state=None, shuffle=False)\n",
    "for i, (train_index, test_index) in enumerate(kf.split(X)):\n",
    "    X_train_fold, X_test_fold = X1[train_index], X1[test_index]\n",
    "    y_train_fold, y_test_fold = y[train_index], y[test_index]\n",
    "\n",
    "    nn_model.fit(X_train_fold, y_train_fold, epochs=10, batch_size=32, verbose=0)\n",
    "    Y_pred = nn_model.predict(X_test_fold)\n",
    "    accuracy = min_model_cost(y_test_fold,Y_pred)\n",
    "    acc_score.append(accuracy)"
   ]
  },
  {
   "cell_type": "code",
   "execution_count": 27,
   "id": "e13c1b9a",
   "metadata": {},
   "outputs": [
    {
     "data": {
      "text/plain": [
       "[0.862876254180602,\n",
       " 0.7878605769230769,\n",
       " 0.8131868131868132,\n",
       " 0.8252858958068615,\n",
       " 0.8290704928259514]"
      ]
     },
     "execution_count": 27,
     "metadata": {},
     "output_type": "execute_result"
    }
   ],
   "source": [
    "acc_score"
   ]
  },
  {
   "cell_type": "code",
   "execution_count": 28,
   "id": "c5b713a7",
   "metadata": {},
   "outputs": [
    {
     "name": "stdout",
     "output_type": "stream",
     "text": [
      "ANN cross validation result:  0.8236560065846611\n"
     ]
    }
   ],
   "source": [
    "print('ANN cross validation result: ', np.mean(acc_score))"
   ]
  },
  {
   "cell_type": "markdown",
   "id": "f0b1bd43",
   "metadata": {},
   "source": [
    "## Over sampling"
   ]
  },
  {
   "cell_type": "code",
   "execution_count": 29,
   "id": "8cd7bac4",
   "metadata": {},
   "outputs": [],
   "source": [
    "sm = SMOTE(sampling_strategy=1, k_neighbors=5, random_state=1)\n",
    "X_train_over, y_train_over = sm.fit_resample(X_train, y_train)"
   ]
  },
  {
   "cell_type": "code",
   "execution_count": 30,
   "id": "8e371d01",
   "metadata": {},
   "outputs": [
    {
     "name": "stdout",
     "output_type": "stream",
     "text": [
      "Failure (1) before over sampling 1738, after 30262\n",
      "Sucess (0) before over sampling 30262 after 30262\n"
     ]
    }
   ],
   "source": [
    "print('Failure (1) before over sampling {}, after {}'.format(sum(y_train == 1), sum(y_train_over == 1)))\n",
    "print('Sucess (0) before over sampling {} after {}'.format(sum(y_train == 0), sum(y_train_over == 0)))"
   ]
  },
  {
   "cell_type": "code",
   "execution_count": 31,
   "id": "028b30fb",
   "metadata": {},
   "outputs": [],
   "source": [
    "X_train_over = X_train_over.values"
   ]
  },
  {
   "cell_type": "code",
   "execution_count": 39,
   "id": "c938b85a",
   "metadata": {},
   "outputs": [
    {
     "name": "stdout",
     "output_type": "stream",
     "text": [
      "250/250 [==============================] - 0s 489us/step\n",
      "250/250 [==============================] - 0s 510us/step\n",
      "250/250 [==============================] - 0s 548us/step\n",
      "250/250 [==============================] - 0s 501us/step\n",
      "250/250 [==============================] - 0s 483us/step\n"
     ]
    }
   ],
   "source": [
    "acc_score_over = []\n",
    "\n",
    "KFold(n_splits=2, random_state=None, shuffle=False)\n",
    "for i, (train_index, test_index) in enumerate(kf.split(X)):\n",
    "    X_train_fold, X_test_fold = X_train_over[train_index], X_train_over[test_index]\n",
    "    y_train_fold, y_test_fold = y_train_over[train_index], y_train_over[test_index]\n",
    "\n",
    "    nn_model.fit(X_train_fold, y_train_fold, epochs=30, batch_size=32, verbose=0)\n",
    "    Y_pred = nn_model.predict(X_test_fold)\n",
    "    accuracy = min_model_cost(y_test_fold,Y_pred)\n",
    "    acc_score_over.append(accuracy)"
   ]
  },
  {
   "cell_type": "code",
   "execution_count": 40,
   "id": "c4cdcb53",
   "metadata": {},
   "outputs": [
    {
     "data": {
      "text/plain": [
       "[0.8899279472635291,\n",
       " 0.881427072402938,\n",
       " 0.875779230652273,\n",
       " 0.8688476705126332,\n",
       " 0.8741363772904777]"
      ]
     },
     "execution_count": 40,
     "metadata": {},
     "output_type": "execute_result"
    }
   ],
   "source": [
    "acc_score_over"
   ]
  },
  {
   "cell_type": "code",
   "execution_count": 41,
   "id": "6373117f",
   "metadata": {},
   "outputs": [
    {
     "name": "stdout",
     "output_type": "stream",
     "text": [
      "ANN over sampled cross validation result:  0.8780236596243702\n"
     ]
    }
   ],
   "source": [
    "print('ANN over sampled cross validation result: ', np.mean(acc_score_over))"
   ]
  },
  {
   "cell_type": "markdown",
   "id": "48d0e6c5",
   "metadata": {},
   "source": [
    "## Under sampling"
   ]
  },
  {
   "cell_type": "code",
   "execution_count": 35,
   "id": "d7c4380b",
   "metadata": {},
   "outputs": [],
   "source": [
    "rms = RandomUnderSampler(random_state=1, sampling_strategy=1)\n",
    "X_train_under, y_train_under = rms.fit_resample(X_train,y_train)"
   ]
  },
  {
   "cell_type": "code",
   "execution_count": 36,
   "id": "46cf8372",
   "metadata": {},
   "outputs": [
    {
     "name": "stdout",
     "output_type": "stream",
     "text": [
      "Failure (1) before over sampling 1738, after 1738\n",
      "Sucess (0) before over sampling 30262 after 1738\n"
     ]
    }
   ],
   "source": [
    "print('Failure (1) before over sampling {}, after {}'.format(sum(y_train == 1), sum(y_train_under == 1)))\n",
    "print('Sucess (0) before over sampling {} after {}'.format(sum(y_train == 0), sum(y_train_under == 0)))"
   ]
  },
  {
   "cell_type": "code",
   "execution_count": 37,
   "id": "68208bf6",
   "metadata": {},
   "outputs": [
    {
     "name": "stdout",
     "output_type": "stream",
     "text": [
      "250/250 [==============================] - 0s 489us/step\n",
      "250/250 [==============================] - 0s 490us/step\n",
      "250/250 [==============================] - 0s 516us/step\n",
      "250/250 [==============================] - 0s 487us/step\n",
      "250/250 [==============================] - 0s 491us/step\n"
     ]
    }
   ],
   "source": [
    "acc_score_under = []\n",
    "\n",
    "KFold(n_splits=2, random_state=None, shuffle=False)\n",
    "for i, (train_index, test_index) in enumerate(kf.split(X)):\n",
    "    X_train_fold, X_test_fold = X_train_over[train_index], X_train_over[test_index]\n",
    "    y_train_fold, y_test_fold = y_train_over[train_index], y_train_over[test_index]\n",
    "\n",
    "    nn_model.fit(X_train_fold, y_train_fold, epochs=10, batch_size=32, verbose=0)\n",
    "    Y_pred = nn_model.predict(X_test_fold)\n",
    "    accuracy = min_model_cost(y_test_fold,Y_pred)\n",
    "    acc_score_under.append(accuracy)"
   ]
  },
  {
   "cell_type": "code",
   "execution_count": 38,
   "id": "b1b82689",
   "metadata": {},
   "outputs": [
    {
     "data": {
      "text/plain": [
       "[0.8912943344081069,\n",
       " 0.8866103739445115,\n",
       " 0.8781826497941759,\n",
       " 0.8710102489019034,\n",
       " 0.8754512635379061]"
      ]
     },
     "execution_count": 38,
     "metadata": {},
     "output_type": "execute_result"
    }
   ],
   "source": [
    "acc_score_under"
   ]
  },
  {
   "cell_type": "code",
   "execution_count": 161,
   "id": "09b50caf",
   "metadata": {},
   "outputs": [
    {
     "name": "stdout",
     "output_type": "stream",
     "text": [
      "ANN under sampled cross validation result:  0.8806119973405909\n"
     ]
    }
   ],
   "source": [
    "print('ANN under sampled cross validation result: ', np.mean(acc_score_under))"
   ]
  },
  {
   "cell_type": "markdown",
   "id": "2a28f362",
   "metadata": {},
   "source": [
    "## Test data"
   ]
  },
  {
   "cell_type": "code",
   "execution_count": 162,
   "id": "bd8214de",
   "metadata": {},
   "outputs": [
    {
     "data": {
      "text/html": [
       "<div>\n",
       "<style scoped>\n",
       "    .dataframe tbody tr th:only-of-type {\n",
       "        vertical-align: middle;\n",
       "    }\n",
       "\n",
       "    .dataframe tbody tr th {\n",
       "        vertical-align: top;\n",
       "    }\n",
       "\n",
       "    .dataframe thead th {\n",
       "        text-align: right;\n",
       "    }\n",
       "</style>\n",
       "<table border=\"1\" class=\"dataframe\">\n",
       "  <thead>\n",
       "    <tr style=\"text-align: right;\">\n",
       "      <th></th>\n",
       "      <th>V1</th>\n",
       "      <th>V2</th>\n",
       "      <th>V3</th>\n",
       "      <th>V4</th>\n",
       "      <th>V5</th>\n",
       "      <th>V6</th>\n",
       "      <th>V7</th>\n",
       "      <th>V8</th>\n",
       "      <th>V9</th>\n",
       "      <th>V10</th>\n",
       "      <th>V11</th>\n",
       "      <th>V12</th>\n",
       "      <th>V13</th>\n",
       "      <th>V14</th>\n",
       "      <th>V15</th>\n",
       "      <th>V16</th>\n",
       "      <th>V17</th>\n",
       "      <th>V18</th>\n",
       "      <th>V19</th>\n",
       "      <th>V20</th>\n",
       "      <th>V21</th>\n",
       "      <th>V22</th>\n",
       "      <th>V23</th>\n",
       "      <th>V24</th>\n",
       "      <th>V25</th>\n",
       "      <th>V26</th>\n",
       "      <th>V27</th>\n",
       "      <th>V28</th>\n",
       "      <th>V29</th>\n",
       "      <th>V30</th>\n",
       "      <th>V31</th>\n",
       "      <th>V32</th>\n",
       "      <th>V33</th>\n",
       "      <th>V34</th>\n",
       "      <th>V35</th>\n",
       "      <th>V36</th>\n",
       "      <th>V37</th>\n",
       "      <th>V38</th>\n",
       "      <th>V39</th>\n",
       "      <th>V40</th>\n",
       "      <th>Target</th>\n",
       "    </tr>\n",
       "  </thead>\n",
       "  <tbody>\n",
       "    <tr>\n",
       "      <th>0</th>\n",
       "      <td>-0.613489</td>\n",
       "      <td>-3.819640</td>\n",
       "      <td>2.202302</td>\n",
       "      <td>1.300420</td>\n",
       "      <td>-1.184929</td>\n",
       "      <td>-4.495964</td>\n",
       "      <td>-1.835817</td>\n",
       "      <td>4.722989</td>\n",
       "      <td>1.206140</td>\n",
       "      <td>-0.341909</td>\n",
       "      <td>-5.122874</td>\n",
       "      <td>1.017021</td>\n",
       "      <td>4.818549</td>\n",
       "      <td>3.269001</td>\n",
       "      <td>-2.984330</td>\n",
       "      <td>1.387370</td>\n",
       "      <td>2.032002</td>\n",
       "      <td>-0.511587</td>\n",
       "      <td>-1.023069</td>\n",
       "      <td>7.338733</td>\n",
       "      <td>-2.242244</td>\n",
       "      <td>0.155489</td>\n",
       "      <td>2.053786</td>\n",
       "      <td>-2.772273</td>\n",
       "      <td>1.851369</td>\n",
       "      <td>-1.788696</td>\n",
       "      <td>-0.277282</td>\n",
       "      <td>-1.255143</td>\n",
       "      <td>-3.832886</td>\n",
       "      <td>-1.504542</td>\n",
       "      <td>1.586765</td>\n",
       "      <td>2.291204</td>\n",
       "      <td>-5.411388</td>\n",
       "      <td>0.870073</td>\n",
       "      <td>0.574479</td>\n",
       "      <td>4.157191</td>\n",
       "      <td>1.428093</td>\n",
       "      <td>-10.511342</td>\n",
       "      <td>0.454664</td>\n",
       "      <td>-1.448363</td>\n",
       "      <td>0</td>\n",
       "    </tr>\n",
       "    <tr>\n",
       "      <th>1</th>\n",
       "      <td>-0.732692</td>\n",
       "      <td>2.209513</td>\n",
       "      <td>8.083006</td>\n",
       "      <td>7.062533</td>\n",
       "      <td>-1.510459</td>\n",
       "      <td>-3.260527</td>\n",
       "      <td>-3.333773</td>\n",
       "      <td>-3.018543</td>\n",
       "      <td>3.556598</td>\n",
       "      <td>-1.510685</td>\n",
       "      <td>-6.694697</td>\n",
       "      <td>-1.936701</td>\n",
       "      <td>0.141019</td>\n",
       "      <td>-3.471372</td>\n",
       "      <td>-4.233177</td>\n",
       "      <td>-10.416455</td>\n",
       "      <td>5.479431</td>\n",
       "      <td>-0.022955</td>\n",
       "      <td>6.036333</td>\n",
       "      <td>6.603463</td>\n",
       "      <td>-8.319705</td>\n",
       "      <td>0.104421</td>\n",
       "      <td>-6.878574</td>\n",
       "      <td>1.457221</td>\n",
       "      <td>2.109761</td>\n",
       "      <td>3.380861</td>\n",
       "      <td>-4.467338</td>\n",
       "      <td>0.995777</td>\n",
       "      <td>-1.409203</td>\n",
       "      <td>-0.694051</td>\n",
       "      <td>-2.577301</td>\n",
       "      <td>-3.270366</td>\n",
       "      <td>-1.806367</td>\n",
       "      <td>1.797525</td>\n",
       "      <td>5.895108</td>\n",
       "      <td>-1.312278</td>\n",
       "      <td>-0.765156</td>\n",
       "      <td>-1.407807</td>\n",
       "      <td>0.557128</td>\n",
       "      <td>-4.049262</td>\n",
       "      <td>0</td>\n",
       "    </tr>\n",
       "    <tr>\n",
       "      <th>2</th>\n",
       "      <td>0.389608</td>\n",
       "      <td>-0.512341</td>\n",
       "      <td>0.527053</td>\n",
       "      <td>-2.576776</td>\n",
       "      <td>-1.016766</td>\n",
       "      <td>2.235112</td>\n",
       "      <td>-0.441301</td>\n",
       "      <td>-4.405744</td>\n",
       "      <td>-0.332869</td>\n",
       "      <td>1.966794</td>\n",
       "      <td>1.796544</td>\n",
       "      <td>0.410490</td>\n",
       "      <td>0.638328</td>\n",
       "      <td>-1.389600</td>\n",
       "      <td>-1.883410</td>\n",
       "      <td>-5.017922</td>\n",
       "      <td>-3.827238</td>\n",
       "      <td>2.418060</td>\n",
       "      <td>1.762285</td>\n",
       "      <td>-3.242297</td>\n",
       "      <td>-3.192960</td>\n",
       "      <td>1.857454</td>\n",
       "      <td>-1.707954</td>\n",
       "      <td>0.633444</td>\n",
       "      <td>-0.587898</td>\n",
       "      <td>0.083683</td>\n",
       "      <td>3.013935</td>\n",
       "      <td>-0.182309</td>\n",
       "      <td>0.223917</td>\n",
       "      <td>0.865228</td>\n",
       "      <td>-1.782158</td>\n",
       "      <td>-2.474936</td>\n",
       "      <td>2.493582</td>\n",
       "      <td>0.315165</td>\n",
       "      <td>2.059288</td>\n",
       "      <td>0.683859</td>\n",
       "      <td>-0.485452</td>\n",
       "      <td>5.128350</td>\n",
       "      <td>1.720744</td>\n",
       "      <td>-1.488235</td>\n",
       "      <td>0</td>\n",
       "    </tr>\n",
       "    <tr>\n",
       "      <th>3</th>\n",
       "      <td>3.412089</td>\n",
       "      <td>1.153345</td>\n",
       "      <td>2.114167</td>\n",
       "      <td>-2.275466</td>\n",
       "      <td>0.087845</td>\n",
       "      <td>-0.009578</td>\n",
       "      <td>0.514235</td>\n",
       "      <td>-1.370917</td>\n",
       "      <td>1.862913</td>\n",
       "      <td>-0.031132</td>\n",
       "      <td>-0.413716</td>\n",
       "      <td>-1.566748</td>\n",
       "      <td>3.183819</td>\n",
       "      <td>0.864431</td>\n",
       "      <td>-0.417157</td>\n",
       "      <td>-0.995751</td>\n",
       "      <td>-3.086726</td>\n",
       "      <td>-0.648430</td>\n",
       "      <td>-2.731857</td>\n",
       "      <td>-2.056434</td>\n",
       "      <td>-1.620290</td>\n",
       "      <td>-0.091157</td>\n",
       "      <td>-1.511600</td>\n",
       "      <td>-3.891854</td>\n",
       "      <td>1.645565</td>\n",
       "      <td>3.146990</td>\n",
       "      <td>4.441590</td>\n",
       "      <td>-2.523508</td>\n",
       "      <td>-2.434027</td>\n",
       "      <td>-4.086404</td>\n",
       "      <td>2.828084</td>\n",
       "      <td>-2.496609</td>\n",
       "      <td>-1.776174</td>\n",
       "      <td>-1.712035</td>\n",
       "      <td>-1.506021</td>\n",
       "      <td>2.242186</td>\n",
       "      <td>-0.657637</td>\n",
       "      <td>-1.861584</td>\n",
       "      <td>0.845768</td>\n",
       "      <td>0.857333</td>\n",
       "      <td>0</td>\n",
       "    </tr>\n",
       "    <tr>\n",
       "      <th>4</th>\n",
       "      <td>-0.874861</td>\n",
       "      <td>-0.640632</td>\n",
       "      <td>4.084202</td>\n",
       "      <td>-1.590454</td>\n",
       "      <td>0.525855</td>\n",
       "      <td>-1.957592</td>\n",
       "      <td>-0.695367</td>\n",
       "      <td>1.347309</td>\n",
       "      <td>-1.732348</td>\n",
       "      <td>0.466500</td>\n",
       "      <td>-4.928214</td>\n",
       "      <td>3.565070</td>\n",
       "      <td>-0.449329</td>\n",
       "      <td>-0.656246</td>\n",
       "      <td>-0.166537</td>\n",
       "      <td>-1.630207</td>\n",
       "      <td>2.291865</td>\n",
       "      <td>2.396492</td>\n",
       "      <td>0.601278</td>\n",
       "      <td>1.793534</td>\n",
       "      <td>-2.120238</td>\n",
       "      <td>0.481968</td>\n",
       "      <td>-0.840707</td>\n",
       "      <td>1.790197</td>\n",
       "      <td>1.874395</td>\n",
       "      <td>0.363930</td>\n",
       "      <td>-0.169063</td>\n",
       "      <td>-0.483832</td>\n",
       "      <td>-2.118982</td>\n",
       "      <td>-2.156586</td>\n",
       "      <td>2.907291</td>\n",
       "      <td>-1.318888</td>\n",
       "      <td>-2.997464</td>\n",
       "      <td>0.459664</td>\n",
       "      <td>0.619774</td>\n",
       "      <td>5.631504</td>\n",
       "      <td>1.323512</td>\n",
       "      <td>-1.752154</td>\n",
       "      <td>1.808302</td>\n",
       "      <td>1.675748</td>\n",
       "      <td>0</td>\n",
       "    </tr>\n",
       "  </tbody>\n",
       "</table>\n",
       "</div>"
      ],
      "text/plain": [
       "         V1        V2        V3        V4        V5        V6        V7  \\\n",
       "0 -0.613489 -3.819640  2.202302  1.300420 -1.184929 -4.495964 -1.835817   \n",
       "1 -0.732692  2.209513  8.083006  7.062533 -1.510459 -3.260527 -3.333773   \n",
       "2  0.389608 -0.512341  0.527053 -2.576776 -1.016766  2.235112 -0.441301   \n",
       "3  3.412089  1.153345  2.114167 -2.275466  0.087845 -0.009578  0.514235   \n",
       "4 -0.874861 -0.640632  4.084202 -1.590454  0.525855 -1.957592 -0.695367   \n",
       "\n",
       "         V8        V9       V10       V11       V12       V13       V14  \\\n",
       "0  4.722989  1.206140 -0.341909 -5.122874  1.017021  4.818549  3.269001   \n",
       "1 -3.018543  3.556598 -1.510685 -6.694697 -1.936701  0.141019 -3.471372   \n",
       "2 -4.405744 -0.332869  1.966794  1.796544  0.410490  0.638328 -1.389600   \n",
       "3 -1.370917  1.862913 -0.031132 -0.413716 -1.566748  3.183819  0.864431   \n",
       "4  1.347309 -1.732348  0.466500 -4.928214  3.565070 -0.449329 -0.656246   \n",
       "\n",
       "        V15        V16       V17       V18       V19       V20       V21  \\\n",
       "0 -2.984330   1.387370  2.032002 -0.511587 -1.023069  7.338733 -2.242244   \n",
       "1 -4.233177 -10.416455  5.479431 -0.022955  6.036333  6.603463 -8.319705   \n",
       "2 -1.883410  -5.017922 -3.827238  2.418060  1.762285 -3.242297 -3.192960   \n",
       "3 -0.417157  -0.995751 -3.086726 -0.648430 -2.731857 -2.056434 -1.620290   \n",
       "4 -0.166537  -1.630207  2.291865  2.396492  0.601278  1.793534 -2.120238   \n",
       "\n",
       "        V22       V23       V24       V25       V26       V27       V28  \\\n",
       "0  0.155489  2.053786 -2.772273  1.851369 -1.788696 -0.277282 -1.255143   \n",
       "1  0.104421 -6.878574  1.457221  2.109761  3.380861 -4.467338  0.995777   \n",
       "2  1.857454 -1.707954  0.633444 -0.587898  0.083683  3.013935 -0.182309   \n",
       "3 -0.091157 -1.511600 -3.891854  1.645565  3.146990  4.441590 -2.523508   \n",
       "4  0.481968 -0.840707  1.790197  1.874395  0.363930 -0.169063 -0.483832   \n",
       "\n",
       "        V29       V30       V31       V32       V33       V34       V35  \\\n",
       "0 -3.832886 -1.504542  1.586765  2.291204 -5.411388  0.870073  0.574479   \n",
       "1 -1.409203 -0.694051 -2.577301 -3.270366 -1.806367  1.797525  5.895108   \n",
       "2  0.223917  0.865228 -1.782158 -2.474936  2.493582  0.315165  2.059288   \n",
       "3 -2.434027 -4.086404  2.828084 -2.496609 -1.776174 -1.712035 -1.506021   \n",
       "4 -2.118982 -2.156586  2.907291 -1.318888 -2.997464  0.459664  0.619774   \n",
       "\n",
       "        V36       V37        V38       V39       V40  Target  \n",
       "0  4.157191  1.428093 -10.511342  0.454664 -1.448363       0  \n",
       "1 -1.312278 -0.765156  -1.407807  0.557128 -4.049262       0  \n",
       "2  0.683859 -0.485452   5.128350  1.720744 -1.488235       0  \n",
       "3  2.242186 -0.657637  -1.861584  0.845768  0.857333       0  \n",
       "4  5.631504  1.323512  -1.752154  1.808302  1.675748       0  "
      ]
     },
     "execution_count": 162,
     "metadata": {},
     "output_type": "execute_result"
    }
   ],
   "source": [
    "df_test = pd.read_csv('Test.csv')\n",
    "df_test.head()"
   ]
  },
  {
   "cell_type": "code",
   "execution_count": 163,
   "id": "cb731968",
   "metadata": {},
   "outputs": [
    {
     "data": {
      "text/plain": [
       "V1        11\n",
       "V2         7\n",
       "V3         0\n",
       "V4         0\n",
       "V5         0\n",
       "V6         0\n",
       "V7         0\n",
       "V8         0\n",
       "V9         0\n",
       "V10        0\n",
       "V11        0\n",
       "V12        0\n",
       "V13        0\n",
       "V14        0\n",
       "V15        0\n",
       "V16        0\n",
       "V17        0\n",
       "V18        0\n",
       "V19        0\n",
       "V20        0\n",
       "V21        0\n",
       "V22        0\n",
       "V23        0\n",
       "V24        0\n",
       "V25        0\n",
       "V26        0\n",
       "V27        0\n",
       "V28        0\n",
       "V29        0\n",
       "V30        0\n",
       "V31        0\n",
       "V32        0\n",
       "V33        0\n",
       "V34        0\n",
       "V35        0\n",
       "V36        0\n",
       "V37        0\n",
       "V38        0\n",
       "V39        0\n",
       "V40        0\n",
       "Target     0\n",
       "dtype: int64"
      ]
     },
     "execution_count": 163,
     "metadata": {},
     "output_type": "execute_result"
    }
   ],
   "source": [
    "df_test.isna().sum()"
   ]
  },
  {
   "cell_type": "code",
   "execution_count": 164,
   "id": "f4f44d75",
   "metadata": {},
   "outputs": [],
   "source": [
    "mean_v1_test = df_test['V1'].mean()\n",
    "mean_v2_test = df_test['V2'].mean()"
   ]
  },
  {
   "cell_type": "code",
   "execution_count": 165,
   "id": "e9ae7f4f",
   "metadata": {},
   "outputs": [],
   "source": [
    "df_test['V1'].fillna(mean_v1_test, inplace=True)\n",
    "df_test['V2'].fillna(mean_v2_test, inplace=True)"
   ]
  },
  {
   "cell_type": "code",
   "execution_count": 166,
   "id": "04f64f50",
   "metadata": {},
   "outputs": [
    {
     "data": {
      "text/plain": [
       "V1        0\n",
       "V2        0\n",
       "V3        0\n",
       "V4        0\n",
       "V5        0\n",
       "V6        0\n",
       "V7        0\n",
       "V8        0\n",
       "V9        0\n",
       "V10       0\n",
       "V11       0\n",
       "V12       0\n",
       "V13       0\n",
       "V14       0\n",
       "V15       0\n",
       "V16       0\n",
       "V17       0\n",
       "V18       0\n",
       "V19       0\n",
       "V20       0\n",
       "V21       0\n",
       "V22       0\n",
       "V23       0\n",
       "V24       0\n",
       "V25       0\n",
       "V26       0\n",
       "V27       0\n",
       "V28       0\n",
       "V29       0\n",
       "V30       0\n",
       "V31       0\n",
       "V32       0\n",
       "V33       0\n",
       "V34       0\n",
       "V35       0\n",
       "V36       0\n",
       "V37       0\n",
       "V38       0\n",
       "V39       0\n",
       "V40       0\n",
       "Target    0\n",
       "dtype: int64"
      ]
     },
     "execution_count": 166,
     "metadata": {},
     "output_type": "execute_result"
    }
   ],
   "source": [
    "df_test.isna().sum()"
   ]
  },
  {
   "cell_type": "code",
   "execution_count": 167,
   "id": "2727528f",
   "metadata": {},
   "outputs": [],
   "source": [
    "X_test_df = df_test.iloc[:,:-1]\n",
    "y_test_df = df_test['Target']"
   ]
  },
  {
   "cell_type": "code",
   "execution_count": 168,
   "id": "c10b2983",
   "metadata": {},
   "outputs": [
    {
     "name": "stdout",
     "output_type": "stream",
     "text": [
      "(10000, 40)\n",
      "(10000,)\n"
     ]
    }
   ],
   "source": [
    "print(X_test_df.shape)\n",
    "print(y_test_df.shape)"
   ]
  },
  {
   "cell_type": "code",
   "execution_count": 187,
   "id": "f845526a",
   "metadata": {},
   "outputs": [
    {
     "name": "stdout",
     "output_type": "stream",
     "text": [
      "313/313 [==============================] - 0s 512us/step\n"
     ]
    },
    {
     "data": {
      "text/html": [
       "<div>\n",
       "<style scoped>\n",
       "    .dataframe tbody tr th:only-of-type {\n",
       "        vertical-align: middle;\n",
       "    }\n",
       "\n",
       "    .dataframe tbody tr th {\n",
       "        vertical-align: top;\n",
       "    }\n",
       "\n",
       "    .dataframe thead th {\n",
       "        text-align: right;\n",
       "    }\n",
       "</style>\n",
       "<table border=\"1\" class=\"dataframe\">\n",
       "  <thead>\n",
       "    <tr style=\"text-align: right;\">\n",
       "      <th></th>\n",
       "      <th>Accuracy</th>\n",
       "      <th>Precision</th>\n",
       "      <th>Recall</th>\n",
       "      <th>F1_score</th>\n",
       "      <th>Model_Cost</th>\n",
       "    </tr>\n",
       "  </thead>\n",
       "  <tbody>\n",
       "    <tr>\n",
       "      <th>0</th>\n",
       "      <td>0.9924</td>\n",
       "      <td>0.975758</td>\n",
       "      <td>0.882998</td>\n",
       "      <td>0.927063</td>\n",
       "      <td>0.831728</td>\n",
       "    </tr>\n",
       "  </tbody>\n",
       "</table>\n",
       "</div>"
      ],
      "text/plain": [
       "   Accuracy  Precision    Recall  F1_score  Model_Cost\n",
       "0    0.9924   0.975758  0.882998  0.927063    0.831728"
      ]
     },
     "execution_count": 187,
     "metadata": {},
     "output_type": "execute_result"
    }
   ],
   "source": [
    "maintanence_cost(nn_model,X_test_df,y_test_df)"
   ]
  },
  {
   "cell_type": "code",
   "execution_count": 194,
   "id": "2745d506",
   "metadata": {},
   "outputs": [
    {
     "name": "stdout",
     "output_type": "stream",
     "text": [
      "313/313 [==============================] - 0s 500us/step\n"
     ]
    },
    {
     "data": {
      "text/html": [
       "<div>\n",
       "<style scoped>\n",
       "    .dataframe tbody tr th:only-of-type {\n",
       "        vertical-align: middle;\n",
       "    }\n",
       "\n",
       "    .dataframe tbody tr th {\n",
       "        vertical-align: top;\n",
       "    }\n",
       "\n",
       "    .dataframe thead th {\n",
       "        text-align: right;\n",
       "    }\n",
       "</style>\n",
       "<table border=\"1\" class=\"dataframe\">\n",
       "  <thead>\n",
       "    <tr style=\"text-align: right;\">\n",
       "      <th></th>\n",
       "      <th>Accuracy</th>\n",
       "      <th>Precision</th>\n",
       "      <th>Recall</th>\n",
       "      <th>F1_score</th>\n",
       "      <th>Model_Cost</th>\n",
       "    </tr>\n",
       "  </thead>\n",
       "  <tbody>\n",
       "    <tr>\n",
       "      <th>0</th>\n",
       "      <td>0.9923</td>\n",
       "      <td>0.97379</td>\n",
       "      <td>0.882998</td>\n",
       "      <td>0.926174</td>\n",
       "      <td>0.831307</td>\n",
       "    </tr>\n",
       "  </tbody>\n",
       "</table>\n",
       "</div>"
      ],
      "text/plain": [
       "   Accuracy  Precision    Recall  F1_score  Model_Cost\n",
       "0    0.9923    0.97379  0.882998  0.926174    0.831307"
      ]
     },
     "execution_count": 194,
     "metadata": {},
     "output_type": "execute_result"
    }
   ],
   "source": [
    "maintanence_cost1(nn_model, X_test_df, y_test_df)"
   ]
  },
  {
   "cell_type": "code",
   "execution_count": 170,
   "id": "d1e5bc52",
   "metadata": {
    "scrolled": true
   },
   "outputs": [
    {
     "name": "stdout",
     "output_type": "stream",
     "text": [
      "313/313 [==============================] - 0s 499us/step\n"
     ]
    },
    {
     "data": {
      "image/png": "[encoded data removed]",
      "text/plain": [
       "<Figure size 700x500 with 2 Axes>"
      ]
     },
     "metadata": {},
     "output_type": "display_data"
    }
   ],
   "source": [
    "confusion_matrix_sklearn(nn_model, X_test_df, y_test_df)"
   ]
  },
  {
   "cell_type": "code",
   "execution_count": 193,
   "id": "032897d0",
   "metadata": {},
   "outputs": [
    {
     "name": "stdout",
     "output_type": "stream",
     "text": [
      "313/313 [==============================] - 0s 500us/step\n"
     ]
    },
    {
     "data": {
      "image/png": "[encoded data removed]",
      "text/plain": [
       "<Figure size 700x500 with 2 Axes>"
      ]
     },
     "metadata": {},
     "output_type": "display_data"
    }
   ],
   "source": [
    "confusion_matrix_sklearn1(nn_model,X_test_df, y_test_df )"
   ]
  },
  {
   "cell_type": "markdown",
   "id": "3dc281c7",
   "metadata": {},
   "source": [
    "## Pipeline to build the final model"
   ]
  },
  {
   "cell_type": "code",
   "execution_count": 176,
   "id": "335e8d14",
   "metadata": {
    "scrolled": true
   },
   "outputs": [
    {
     "name": "stdout",
     "output_type": "stream",
     "text": [
      "Epoch 1/50\n",
      "500/500 [==============================] - 1s 1ms/step - loss: 0.2049 - accuracy: 0.9416 - val_loss: 0.0902 - val_accuracy: 0.9818\n",
      "Epoch 2/50\n",
      "500/500 [==============================] - 1s 1ms/step - loss: 0.1124 - accuracy: 0.9749 - val_loss: 0.0676 - val_accuracy: 0.9860\n",
      "Epoch 3/50\n",
      "500/500 [==============================] - 1s 1ms/step - loss: 0.0948 - accuracy: 0.9815 - val_loss: 0.0660 - val_accuracy: 0.9875\n",
      "Epoch 4/50\n",
      "500/500 [==============================] - 1s 1ms/step - loss: 0.0832 - accuracy: 0.9842 - val_loss: 0.0545 - val_accuracy: 0.9900\n",
      "Epoch 5/50\n",
      "500/500 [==============================] - 1s 1ms/step - loss: 0.0790 - accuracy: 0.9850 - val_loss: 0.0523 - val_accuracy: 0.9895\n",
      "Epoch 6/50\n",
      "500/500 [==============================] - 1s 1ms/step - loss: 0.0741 - accuracy: 0.9857 - val_loss: 0.0533 - val_accuracy: 0.9901\n",
      "Epoch 7/50\n",
      "500/500 [==============================] - 1s 1ms/step - loss: 0.0664 - accuracy: 0.9872 - val_loss: 0.0510 - val_accuracy: 0.9909\n",
      "Epoch 8/50\n",
      "500/500 [==============================] - 1s 1ms/step - loss: 0.0665 - accuracy: 0.9877 - val_loss: 0.0513 - val_accuracy: 0.9898\n",
      "Epoch 9/50\n",
      "500/500 [==============================] - 1s 1ms/step - loss: 0.0655 - accuracy: 0.9877 - val_loss: 0.0497 - val_accuracy: 0.9905\n",
      "Epoch 10/50\n",
      "500/500 [==============================] - 1s 1ms/step - loss: 0.0619 - accuracy: 0.9880 - val_loss: 0.0475 - val_accuracy: 0.9906\n",
      "Epoch 11/50\n",
      "500/500 [==============================] - 1s 1ms/step - loss: 0.0578 - accuracy: 0.9891 - val_loss: 0.0475 - val_accuracy: 0.9912\n",
      "Epoch 12/50\n",
      "500/500 [==============================] - 1s 1ms/step - loss: 0.0577 - accuracy: 0.9884 - val_loss: 0.0472 - val_accuracy: 0.9911\n",
      "Epoch 13/50\n",
      "500/500 [==============================] - 1s 1ms/step - loss: 0.0577 - accuracy: 0.9887 - val_loss: 0.0464 - val_accuracy: 0.9911\n",
      "Epoch 14/50\n",
      "500/500 [==============================] - 1s 1ms/step - loss: 0.0564 - accuracy: 0.9885 - val_loss: 0.0462 - val_accuracy: 0.9916\n",
      "Epoch 15/50\n",
      "500/500 [==============================] - 1s 1ms/step - loss: 0.0548 - accuracy: 0.9893 - val_loss: 0.0481 - val_accuracy: 0.9908\n",
      "Epoch 16/50\n",
      "500/500 [==============================] - 1s 1ms/step - loss: 0.0515 - accuracy: 0.9893 - val_loss: 0.0478 - val_accuracy: 0.9910\n",
      "Epoch 17/50\n",
      "500/500 [==============================] - 1s 1ms/step - loss: 0.0541 - accuracy: 0.9900 - val_loss: 0.0472 - val_accuracy: 0.9912\n",
      "Epoch 18/50\n",
      "500/500 [==============================] - 1s 1ms/step - loss: 0.0526 - accuracy: 0.9897 - val_loss: 0.0461 - val_accuracy: 0.9911\n",
      "Epoch 19/50\n",
      "500/500 [==============================] - 1s 1ms/step - loss: 0.0512 - accuracy: 0.9898 - val_loss: 0.0459 - val_accuracy: 0.9914\n",
      "Epoch 20/50\n",
      "500/500 [==============================] - 1s 1ms/step - loss: 0.0543 - accuracy: 0.9893 - val_loss: 0.0456 - val_accuracy: 0.9916\n",
      "Epoch 21/50\n",
      "500/500 [==============================] - 1s 1ms/step - loss: 0.0508 - accuracy: 0.9899 - val_loss: 0.0460 - val_accuracy: 0.9915\n",
      "Epoch 22/50\n",
      "500/500 [==============================] - 1s 1ms/step - loss: 0.0527 - accuracy: 0.9898 - val_loss: 0.0455 - val_accuracy: 0.9916\n",
      "Epoch 23/50\n",
      "500/500 [==============================] - 1s 1ms/step - loss: 0.0495 - accuracy: 0.9906 - val_loss: 0.0454 - val_accuracy: 0.9914\n",
      "Epoch 24/50\n",
      "500/500 [==============================] - 1s 1ms/step - loss: 0.0496 - accuracy: 0.9901 - val_loss: 0.0455 - val_accuracy: 0.9920\n",
      "Epoch 25/50\n",
      "500/500 [==============================] - 1s 1ms/step - loss: 0.0525 - accuracy: 0.9899 - val_loss: 0.0459 - val_accuracy: 0.9911\n",
      "Epoch 26/50\n",
      "500/500 [==============================] - 1s 1ms/step - loss: 0.0511 - accuracy: 0.9898 - val_loss: 0.0452 - val_accuracy: 0.9915\n",
      "Epoch 27/50\n",
      "500/500 [==============================] - 1s 1ms/step - loss: 0.0491 - accuracy: 0.9905 - val_loss: 0.0439 - val_accuracy: 0.9920\n",
      "Epoch 28/50\n",
      "500/500 [==============================] - 1s 1ms/step - loss: 0.0482 - accuracy: 0.9907 - val_loss: 0.0443 - val_accuracy: 0.9918\n",
      "Epoch 29/50\n",
      "500/500 [==============================] - 1s 1ms/step - loss: 0.0472 - accuracy: 0.9903 - val_loss: 0.0436 - val_accuracy: 0.9923\n",
      "Epoch 30/50\n",
      "500/500 [==============================] - 1s 1ms/step - loss: 0.0476 - accuracy: 0.9906 - val_loss: 0.0443 - val_accuracy: 0.9920\n",
      "Epoch 31/50\n",
      "500/500 [==============================] - 1s 1ms/step - loss: 0.0490 - accuracy: 0.9910 - val_loss: 0.0442 - val_accuracy: 0.9919\n",
      "Epoch 32/50\n",
      "500/500 [==============================] - 1s 1ms/step - loss: 0.0439 - accuracy: 0.9910 - val_loss: 0.0445 - val_accuracy: 0.9918\n",
      "Epoch 33/50\n",
      "500/500 [==============================] - 1s 1ms/step - loss: 0.0495 - accuracy: 0.9900 - val_loss: 0.0455 - val_accuracy: 0.9914\n",
      "Epoch 34/50\n",
      "500/500 [==============================] - 1s 1ms/step - loss: 0.0512 - accuracy: 0.9904 - val_loss: 0.0444 - val_accuracy: 0.9919\n",
      "Epoch 35/50\n",
      "500/500 [==============================] - 1s 1ms/step - loss: 0.0455 - accuracy: 0.9907 - val_loss: 0.0440 - val_accuracy: 0.9919\n",
      "Epoch 36/50\n",
      "500/500 [==============================] - 1s 1ms/step - loss: 0.0482 - accuracy: 0.9899 - val_loss: 0.0445 - val_accuracy: 0.9919\n",
      "Epoch 37/50\n",
      "500/500 [==============================] - 1s 1ms/step - loss: 0.0478 - accuracy: 0.9911 - val_loss: 0.0440 - val_accuracy: 0.9920\n",
      "Epoch 38/50\n",
      "500/500 [==============================] - 1s 1ms/step - loss: 0.0463 - accuracy: 0.9909 - val_loss: 0.0447 - val_accuracy: 0.9920\n",
      "Epoch 39/50\n",
      "500/500 [==============================] - 1s 1ms/step - loss: 0.0440 - accuracy: 0.9909 - val_loss: 0.0472 - val_accuracy: 0.9915\n",
      "Epoch 40/50\n",
      "500/500 [==============================] - 1s 1ms/step - loss: 0.0496 - accuracy: 0.9897 - val_loss: 0.0437 - val_accuracy: 0.9925\n",
      "Epoch 41/50\n",
      "500/500 [==============================] - 1s 1ms/step - loss: 0.0446 - accuracy: 0.9910 - val_loss: 0.0444 - val_accuracy: 0.9925\n",
      "Epoch 42/50\n",
      "500/500 [==============================] - 1s 1ms/step - loss: 0.0470 - accuracy: 0.9916 - val_loss: 0.0441 - val_accuracy: 0.9921\n",
      "Epoch 43/50\n",
      "500/500 [==============================] - 1s 1ms/step - loss: 0.0459 - accuracy: 0.9915 - val_loss: 0.0466 - val_accuracy: 0.9908\n",
      "Epoch 44/50\n",
      "500/500 [==============================] - 1s 1ms/step - loss: 0.0487 - accuracy: 0.9906 - val_loss: 0.0444 - val_accuracy: 0.9921\n",
      "Epoch 45/50\n",
      "500/500 [==============================] - 1s 1ms/step - loss: 0.0459 - accuracy: 0.9913 - val_loss: 0.0434 - val_accuracy: 0.9921\n",
      "Epoch 46/50\n",
      "500/500 [==============================] - 1s 1ms/step - loss: 0.0451 - accuracy: 0.9911 - val_loss: 0.0435 - val_accuracy: 0.9926\n",
      "Epoch 47/50\n",
      "500/500 [==============================] - 1s 1ms/step - loss: 0.0461 - accuracy: 0.9915 - val_loss: 0.0461 - val_accuracy: 0.9923\n",
      "Epoch 48/50\n",
      "500/500 [==============================] - 1s 1ms/step - loss: 0.0489 - accuracy: 0.9907 - val_loss: 0.0441 - val_accuracy: 0.9921\n",
      "Epoch 49/50\n",
      "500/500 [==============================] - 1s 1ms/step - loss: 0.0468 - accuracy: 0.9911 - val_loss: 0.0439 - val_accuracy: 0.9923\n",
      "Epoch 50/50\n",
      "500/500 [==============================] - 1s 1ms/step - loss: 0.0435 - accuracy: 0.9910 - val_loss: 0.0449 - val_accuracy: 0.9923\n",
      "1250/1250 [==============================] - 1s 909us/step - loss: 0.0505 - accuracy: 0.9907\n"
     ]
    },
    {
     "data": {
      "text/html": [
       "<style>#sk-container-id-2 {color: black;background-color: white;}#sk-container-id-2 pre{padding: 0;}#sk-container-id-2 div.sk-toggleable {background-color: white;}#sk-container-id-2 label.sk-toggleable__label {cursor: pointer;display: block;width: 100%;margin-bottom: 0;padding: 0.3em;box-sizing: border-box;text-align: center;}#sk-container-id-2 label.sk-toggleable__label-arrow:before {content: \"▸\";float: left;margin-right: 0.25em;color: #696969;}#sk-container-id-2 label.sk-toggleable__label-arrow:hover:before {color: black;}#sk-container-id-2 div.sk-estimator:hover label.sk-toggleable__label-arrow:before {color: black;}#sk-container-id-2 div.sk-toggleable__content {max-height: 0;max-width: 0;overflow: hidden;text-align: left;background-color: #f0f8ff;}#sk-container-id-2 div.sk-toggleable__content pre {margin: 0.2em;color: black;border-radius: 0.25em;background-color: #f0f8ff;}#sk-container-id-2 input.sk-toggleable__control:checked~div.sk-toggleable__content {max-height: 200px;max-width: 100%;overflow: auto;}#sk-container-id-2 input.sk-toggleable__control:checked~label.sk-toggleable__label-arrow:before {content: \"▾\";}#sk-container-id-2 div.sk-estimator input.sk-toggleable__control:checked~label.sk-toggleable__label {background-color: #d4ebff;}#sk-container-id-2 div.sk-label input.sk-toggleable__control:checked~label.sk-toggleable__label {background-color: #d4ebff;}#sk-container-id-2 input.sk-hidden--visually {border: 0;clip: rect(1px 1px 1px 1px);clip: rect(1px, 1px, 1px, 1px);height: 1px;margin: -1px;overflow: hidden;padding: 0;position: absolute;width: 1px;}#sk-container-id-2 div.sk-estimator {font-family: monospace;background-color: #f0f8ff;border: 1px dotted black;border-radius: 0.25em;box-sizing: border-box;margin-bottom: 0.5em;}#sk-container-id-2 div.sk-estimator:hover {background-color: #d4ebff;}#sk-container-id-2 div.sk-parallel-item::after {content: \"\";width: 100%;border-bottom: 1px solid gray;flex-grow: 1;}#sk-container-id-2 div.sk-label:hover label.sk-toggleable__label {background-color: #d4ebff;}#sk-container-id-2 div.sk-serial::before {content: \"\";position: absolute;border-left: 1px solid gray;box-sizing: border-box;top: 0;bottom: 0;left: 50%;z-index: 0;}#sk-container-id-2 div.sk-serial {display: flex;flex-direction: column;align-items: center;background-color: white;padding-right: 0.2em;padding-left: 0.2em;position: relative;}#sk-container-id-2 div.sk-item {position: relative;z-index: 1;}#sk-container-id-2 div.sk-parallel {display: flex;align-items: stretch;justify-content: center;background-color: white;position: relative;}#sk-container-id-2 div.sk-item::before, #sk-container-id-2 div.sk-parallel-item::before {content: \"\";position: absolute;border-left: 1px solid gray;box-sizing: border-box;top: 0;bottom: 0;left: 50%;z-index: -1;}#sk-container-id-2 div.sk-parallel-item {display: flex;flex-direction: column;z-index: 1;position: relative;background-color: white;}#sk-container-id-2 div.sk-parallel-item:first-child::after {align-self: flex-end;width: 50%;}#sk-container-id-2 div.sk-parallel-item:last-child::after {align-self: flex-start;width: 50%;}#sk-container-id-2 div.sk-parallel-item:only-child::after {width: 0;}#sk-container-id-2 div.sk-dashed-wrapped {border: 1px dashed gray;margin: 0 0.4em 0.5em 0.4em;box-sizing: border-box;padding-bottom: 0.4em;background-color: white;}#sk-container-id-2 div.sk-label label {font-family: monospace;font-weight: bold;display: inline-block;line-height: 1.2em;}#sk-container-id-2 div.sk-label-container {text-align: center;}#sk-container-id-2 div.sk-container {/* jupyter's `normalize.less` sets `[hidden] { display: none; }` but bootstrap.min.css set `[hidden] { display: none !important; }` so we also need the `!important` here to be able to override the default hidden behavior on the sphinx rendered scikit-learn.org. See: https://github.com/scikit-learn/scikit-learn/issues/21755 */display: inline-block !important;position: relative;}#sk-container-id-2 div.sk-text-repr-fallback {display: none;}</style><div id=\"sk-container-id-2\" class=\"sk-top-container\"><div class=\"sk-text-repr-fallback\"><pre>Pipeline(steps=[(&#x27;Imputer&#x27;, SimpleImputer()),\n",
       "                (&#x27;Neural network&#x27;,\n",
       "                 &lt;keras.engine.sequential.Sequential object at 0x7fd0ee5eca90&gt;)])</pre><b>In a Jupyter environment, please rerun this cell to show the HTML representation or trust the notebook. <br />On GitHub, the HTML representation is unable to render, please try loading this page with nbviewer.org.</b></div><div class=\"sk-container\" hidden><div class=\"sk-item sk-dashed-wrapped\"><div class=\"sk-label-container\"><div class=\"sk-label sk-toggleable\"><input class=\"sk-toggleable__control sk-hidden--visually\" id=\"sk-estimator-id-4\" type=\"checkbox\" ><label for=\"sk-estimator-id-4\" class=\"sk-toggleable__label sk-toggleable__label-arrow\">Pipeline</label><div class=\"sk-toggleable__content\"><pre>Pipeline(steps=[(&#x27;Imputer&#x27;, SimpleImputer()),\n",
       "                (&#x27;Neural network&#x27;,\n",
       "                 &lt;keras.engine.sequential.Sequential object at 0x7fd0ee5eca90&gt;)])</pre></div></div></div><div class=\"sk-serial\"><div class=\"sk-item\"><div class=\"sk-estimator sk-toggleable\"><input class=\"sk-toggleable__control sk-hidden--visually\" id=\"sk-estimator-id-5\" type=\"checkbox\" ><label for=\"sk-estimator-id-5\" class=\"sk-toggleable__label sk-toggleable__label-arrow\">SimpleImputer</label><div class=\"sk-toggleable__content\"><pre>SimpleImputer()</pre></div></div></div><div class=\"sk-item\"><div class=\"sk-estimator sk-toggleable\"><input class=\"sk-toggleable__control sk-hidden--visually\" id=\"sk-estimator-id-6\" type=\"checkbox\" ><label for=\"sk-estimator-id-6\" class=\"sk-toggleable__label sk-toggleable__label-arrow\">Sequential</label><div class=\"sk-toggleable__content\"><pre>&lt;keras.engine.sequential.Sequential object at 0x7fd0ee5eca90&gt;</pre></div></div></div></div></div></div></div>"
      ],
      "text/plain": [
       "Pipeline(steps=[('Imputer', SimpleImputer()),\n",
       "                ('Neural network',\n",
       "                 <keras.engine.sequential.Sequential object at 0x7fd0ee5eca90>)])"
      ]
     },
     "execution_count": 176,
     "metadata": {},
     "output_type": "execute_result"
    }
   ],
   "source": [
    "model_pipeline = Pipeline([\n",
    "    ('Imputer', SimpleImputer(strategy='mean')),\n",
    "    ('Neural network', neural_network(X,y))\n",
    "])\n",
    "\n",
    "model_pipeline.fit(X,y)"
   ]
  },
  {
   "cell_type": "code",
   "execution_count": 177,
   "id": "96033f16",
   "metadata": {},
   "outputs": [
    {
     "name": "stdout",
     "output_type": "stream",
     "text": [
      "313/313 [==============================] - 0s 500us/step\n"
     ]
    },
    {
     "data": {
      "text/plain": [
       "0.8091715976331361"
      ]
     },
     "execution_count": 177,
     "metadata": {},
     "output_type": "execute_result"
    }
   ],
   "source": [
    "min_model_cost(y_test_df, model_pipeline.predict(X_test_df))"
   ]
  },
  {
   "cell_type": "code",
   "execution_count": 178,
   "id": "19c2f950",
   "metadata": {},
   "outputs": [
    {
     "name": "stdout",
     "output_type": "stream",
     "text": [
      "313/313 [==============================] - 0s 488us/step\n"
     ]
    },
    {
     "data": {
      "text/plain": [
       "0.8111715274345032"
      ]
     },
     "execution_count": 178,
     "metadata": {},
     "output_type": "execute_result"
    }
   ],
   "source": [
    "min_model_cost1(y_test_df, model_pipeline.predict(X_test_df))"
   ]
  },
  {
   "cell_type": "code",
   "execution_count": 186,
   "id": "bc4a3cb7",
   "metadata": {},
   "outputs": [
    {
     "name": "stdout",
     "output_type": "stream",
     "text": [
      "313/313 [==============================] - 0s 501us/step\n"
     ]
    },
    {
     "data": {
      "text/html": [
       "<div>\n",
       "<style scoped>\n",
       "    .dataframe tbody tr th:only-of-type {\n",
       "        vertical-align: middle;\n",
       "    }\n",
       "\n",
       "    .dataframe tbody tr th {\n",
       "        vertical-align: top;\n",
       "    }\n",
       "\n",
       "    .dataframe thead th {\n",
       "        text-align: right;\n",
       "    }\n",
       "</style>\n",
       "<table border=\"1\" class=\"dataframe\">\n",
       "  <thead>\n",
       "    <tr style=\"text-align: right;\">\n",
       "      <th></th>\n",
       "      <th>Accuracy</th>\n",
       "      <th>Precision</th>\n",
       "      <th>Recall</th>\n",
       "      <th>F1_score</th>\n",
       "      <th>Model_Cost</th>\n",
       "    </tr>\n",
       "  </thead>\n",
       "  <tbody>\n",
       "    <tr>\n",
       "      <th>0</th>\n",
       "      <td>0.9917</td>\n",
       "      <td>0.985356</td>\n",
       "      <td>0.86106</td>\n",
       "      <td>0.919024</td>\n",
       "      <td>0.809172</td>\n",
       "    </tr>\n",
       "  </tbody>\n",
       "</table>\n",
       "</div>"
      ],
      "text/plain": [
       "   Accuracy  Precision   Recall  F1_score  Model_Cost\n",
       "0    0.9917   0.985356  0.86106  0.919024    0.809172"
      ]
     },
     "execution_count": 186,
     "metadata": {},
     "output_type": "execute_result"
    }
   ],
   "source": [
    "maintanence_cost(model_pipeline, X_test_df, y_test_df)"
   ]
  },
  {
   "cell_type": "code",
   "execution_count": 185,
   "id": "2ddb3a8b",
   "metadata": {
    "scrolled": true
   },
   "outputs": [
    {
     "name": "stdout",
     "output_type": "stream",
     "text": [
      "313/313 [==============================] - 0s 502us/step\n"
     ]
    },
    {
     "data": {
      "text/html": [
       "<div>\n",
       "<style scoped>\n",
       "    .dataframe tbody tr th:only-of-type {\n",
       "        vertical-align: middle;\n",
       "    }\n",
       "\n",
       "    .dataframe tbody tr th {\n",
       "        vertical-align: top;\n",
       "    }\n",
       "\n",
       "    .dataframe thead th {\n",
       "        text-align: right;\n",
       "    }\n",
       "</style>\n",
       "<table border=\"1\" class=\"dataframe\">\n",
       "  <thead>\n",
       "    <tr style=\"text-align: right;\">\n",
       "      <th></th>\n",
       "      <th>Accuracy</th>\n",
       "      <th>Precision</th>\n",
       "      <th>Recall</th>\n",
       "      <th>F1_score</th>\n",
       "      <th>Model_Cost</th>\n",
       "    </tr>\n",
       "  </thead>\n",
       "  <tbody>\n",
       "    <tr>\n",
       "      <th>0</th>\n",
       "      <td>0.9918</td>\n",
       "      <td>0.985386</td>\n",
       "      <td>0.862888</td>\n",
       "      <td>0.920078</td>\n",
       "      <td>0.811172</td>\n",
       "    </tr>\n",
       "  </tbody>\n",
       "</table>\n",
       "</div>"
      ],
      "text/plain": [
       "   Accuracy  Precision    Recall  F1_score  Model_Cost\n",
       "0    0.9918   0.985386  0.862888  0.920078    0.811172"
      ]
     },
     "execution_count": 185,
     "metadata": {},
     "output_type": "execute_result"
    }
   ],
   "source": [
    "maintanence_cost1(model_pipeline, X_test_df, y_test_df)"
   ]
  }
 ],
 "metadata": {
  "kernelspec": {
   "display_name": "Python 3 (ipykernel)",
   "language": "python",
   "name": "python3"
  },
  "language_info": {
   "codemirror_mode": {
    "name": "ipython",
    "version": 3
   },
   "file_extension": ".py",
   "mimetype": "text/x-python",
   "name": "python",
   "nbconvert_exporter": "python",
   "pygments_lexer": "ipython3",
   "version": "3.9.16"
  }
 },
 "nbformat": 4,
 "nbformat_minor": 5
}
